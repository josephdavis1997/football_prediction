{
 "cells": [
  {
   "cell_type": "code",
   "execution_count": 1,
   "metadata": {},
   "outputs": [],
   "source": [
    "import pandas as pd\n",
    "import numpy as np\n",
    "import matplotlib.pyplot as plt\n",
    "%matplotlib inline \n",
    "import seaborn as sns\n",
    "import warnings\n",
    "warnings.filterwarnings('ignore')\n",
    "#first we are importing required libraries"
   ]
  },
  {
   "cell_type": "code",
   "execution_count": 2,
   "metadata": {},
   "outputs": [
    {
     "data": {
      "text/html": [
       "<div>\n",
       "<style scoped>\n",
       "    .dataframe tbody tr th:only-of-type {\n",
       "        vertical-align: middle;\n",
       "    }\n",
       "\n",
       "    .dataframe tbody tr th {\n",
       "        vertical-align: top;\n",
       "    }\n",
       "\n",
       "    .dataframe thead th {\n",
       "        text-align: right;\n",
       "    }\n",
       "</style>\n",
       "<table border=\"1\" class=\"dataframe\">\n",
       "  <thead>\n",
       "    <tr style=\"text-align: right;\">\n",
       "      <th></th>\n",
       "      <th>AC</th>\n",
       "      <th>AF</th>\n",
       "      <th>AR</th>\n",
       "      <th>AS</th>\n",
       "      <th>AST</th>\n",
       "      <th>AY</th>\n",
       "      <th>AwayTeam</th>\n",
       "      <th>Date</th>\n",
       "      <th>FTR</th>\n",
       "      <th>HC</th>\n",
       "      <th>HF</th>\n",
       "      <th>HR</th>\n",
       "      <th>HS</th>\n",
       "      <th>HST</th>\n",
       "      <th>HTAG</th>\n",
       "      <th>HTHG</th>\n",
       "      <th>HY</th>\n",
       "      <th>HomeTeam</th>\n",
       "      <th>league</th>\n",
       "    </tr>\n",
       "  </thead>\n",
       "  <tbody>\n",
       "    <tr>\n",
       "      <th>0</th>\n",
       "      <td>3.0</td>\n",
       "      <td>12.0</td>\n",
       "      <td>0.0</td>\n",
       "      <td>14.0</td>\n",
       "      <td>4.0</td>\n",
       "      <td>0.0</td>\n",
       "      <td>Stuttgart</td>\n",
       "      <td>07/08/09</td>\n",
       "      <td>H</td>\n",
       "      <td>6.0</td>\n",
       "      <td>12.0</td>\n",
       "      <td>0.0</td>\n",
       "      <td>13.0</td>\n",
       "      <td>7.0</td>\n",
       "      <td>0.0</td>\n",
       "      <td>0.0</td>\n",
       "      <td>0.0</td>\n",
       "      <td>Wolfsburg</td>\n",
       "      <td>bundesliga</td>\n",
       "    </tr>\n",
       "    <tr>\n",
       "      <th>1</th>\n",
       "      <td>1.0</td>\n",
       "      <td>10.0</td>\n",
       "      <td>0.0</td>\n",
       "      <td>7.0</td>\n",
       "      <td>0.0</td>\n",
       "      <td>1.0</td>\n",
       "      <td>FC Koln</td>\n",
       "      <td>08/08/09</td>\n",
       "      <td>H</td>\n",
       "      <td>16.0</td>\n",
       "      <td>8.0</td>\n",
       "      <td>0.0</td>\n",
       "      <td>24.0</td>\n",
       "      <td>11.0</td>\n",
       "      <td>0.0</td>\n",
       "      <td>0.0</td>\n",
       "      <td>0.0</td>\n",
       "      <td>Dortmund</td>\n",
       "      <td>bundesliga</td>\n",
       "    </tr>\n",
       "    <tr>\n",
       "      <th>2</th>\n",
       "      <td>3.0</td>\n",
       "      <td>20.0</td>\n",
       "      <td>0.0</td>\n",
       "      <td>15.0</td>\n",
       "      <td>3.0</td>\n",
       "      <td>2.0</td>\n",
       "      <td>Hannover</td>\n",
       "      <td>08/08/09</td>\n",
       "      <td>H</td>\n",
       "      <td>5.0</td>\n",
       "      <td>16.0</td>\n",
       "      <td>0.0</td>\n",
       "      <td>10.0</td>\n",
       "      <td>4.0</td>\n",
       "      <td>0.0</td>\n",
       "      <td>0.0</td>\n",
       "      <td>3.0</td>\n",
       "      <td>Hertha</td>\n",
       "      <td>bundesliga</td>\n",
       "    </tr>\n",
       "    <tr>\n",
       "      <th>3</th>\n",
       "      <td>10.0</td>\n",
       "      <td>28.0</td>\n",
       "      <td>0.0</td>\n",
       "      <td>9.0</td>\n",
       "      <td>3.0</td>\n",
       "      <td>2.0</td>\n",
       "      <td>Bayern Munich</td>\n",
       "      <td>08/08/09</td>\n",
       "      <td>D</td>\n",
       "      <td>3.0</td>\n",
       "      <td>10.0</td>\n",
       "      <td>0.0</td>\n",
       "      <td>9.0</td>\n",
       "      <td>1.0</td>\n",
       "      <td>1.0</td>\n",
       "      <td>1.0</td>\n",
       "      <td>0.0</td>\n",
       "      <td>Hoffenheim</td>\n",
       "      <td>bundesliga</td>\n",
       "    </tr>\n",
       "    <tr>\n",
       "      <th>4</th>\n",
       "      <td>5.0</td>\n",
       "      <td>28.0</td>\n",
       "      <td>0.0</td>\n",
       "      <td>13.0</td>\n",
       "      <td>7.0</td>\n",
       "      <td>2.0</td>\n",
       "      <td>Leverkusen</td>\n",
       "      <td>08/08/09</td>\n",
       "      <td>D</td>\n",
       "      <td>3.0</td>\n",
       "      <td>22.0</td>\n",
       "      <td>0.0</td>\n",
       "      <td>8.0</td>\n",
       "      <td>4.0</td>\n",
       "      <td>2.0</td>\n",
       "      <td>1.0</td>\n",
       "      <td>1.0</td>\n",
       "      <td>Mainz</td>\n",
       "      <td>bundesliga</td>\n",
       "    </tr>\n",
       "    <tr>\n",
       "      <th>5</th>\n",
       "      <td>6.0</td>\n",
       "      <td>21.0</td>\n",
       "      <td>0.0</td>\n",
       "      <td>9.0</td>\n",
       "      <td>5.0</td>\n",
       "      <td>1.0</td>\n",
       "      <td>Schalke 04</td>\n",
       "      <td>08/08/09</td>\n",
       "      <td>A</td>\n",
       "      <td>9.0</td>\n",
       "      <td>14.0</td>\n",
       "      <td>0.0</td>\n",
       "      <td>14.0</td>\n",
       "      <td>3.0</td>\n",
       "      <td>1.0</td>\n",
       "      <td>0.0</td>\n",
       "      <td>2.0</td>\n",
       "      <td>Nurnberg</td>\n",
       "      <td>bundesliga</td>\n",
       "    </tr>\n",
       "    <tr>\n",
       "      <th>6</th>\n",
       "      <td>3.0</td>\n",
       "      <td>20.0</td>\n",
       "      <td>0.0</td>\n",
       "      <td>15.0</td>\n",
       "      <td>8.0</td>\n",
       "      <td>2.0</td>\n",
       "      <td>Ein Frankfurt</td>\n",
       "      <td>08/08/09</td>\n",
       "      <td>A</td>\n",
       "      <td>9.0</td>\n",
       "      <td>18.0</td>\n",
       "      <td>1.0</td>\n",
       "      <td>22.0</td>\n",
       "      <td>10.0</td>\n",
       "      <td>2.0</td>\n",
       "      <td>2.0</td>\n",
       "      <td>1.0</td>\n",
       "      <td>Werder Bremen</td>\n",
       "      <td>bundesliga</td>\n",
       "    </tr>\n",
       "    <tr>\n",
       "      <th>7</th>\n",
       "      <td>5.0</td>\n",
       "      <td>21.0</td>\n",
       "      <td>1.0</td>\n",
       "      <td>10.0</td>\n",
       "      <td>7.0</td>\n",
       "      <td>1.0</td>\n",
       "      <td>M'gladbach</td>\n",
       "      <td>09/08/09</td>\n",
       "      <td>D</td>\n",
       "      <td>11.0</td>\n",
       "      <td>13.0</td>\n",
       "      <td>0.0</td>\n",
       "      <td>28.0</td>\n",
       "      <td>8.0</td>\n",
       "      <td>3.0</td>\n",
       "      <td>0.0</td>\n",
       "      <td>3.0</td>\n",
       "      <td>Bochum</td>\n",
       "      <td>bundesliga</td>\n",
       "    </tr>\n",
       "    <tr>\n",
       "      <th>8</th>\n",
       "      <td>6.0</td>\n",
       "      <td>19.0</td>\n",
       "      <td>0.0</td>\n",
       "      <td>14.0</td>\n",
       "      <td>3.0</td>\n",
       "      <td>1.0</td>\n",
       "      <td>Hamburg</td>\n",
       "      <td>09/08/09</td>\n",
       "      <td>D</td>\n",
       "      <td>12.0</td>\n",
       "      <td>22.0</td>\n",
       "      <td>0.0</td>\n",
       "      <td>17.0</td>\n",
       "      <td>6.0</td>\n",
       "      <td>1.0</td>\n",
       "      <td>0.0</td>\n",
       "      <td>2.0</td>\n",
       "      <td>Freiburg</td>\n",
       "      <td>bundesliga</td>\n",
       "    </tr>\n",
       "    <tr>\n",
       "      <th>9</th>\n",
       "      <td>2.0</td>\n",
       "      <td>9.0</td>\n",
       "      <td>0.0</td>\n",
       "      <td>10.0</td>\n",
       "      <td>1.0</td>\n",
       "      <td>0.0</td>\n",
       "      <td>Werder Bremen</td>\n",
       "      <td>15/08/09</td>\n",
       "      <td>D</td>\n",
       "      <td>5.0</td>\n",
       "      <td>13.0</td>\n",
       "      <td>0.0</td>\n",
       "      <td>9.0</td>\n",
       "      <td>4.0</td>\n",
       "      <td>1.0</td>\n",
       "      <td>0.0</td>\n",
       "      <td>1.0</td>\n",
       "      <td>Bayern Munich</td>\n",
       "      <td>bundesliga</td>\n",
       "    </tr>\n",
       "  </tbody>\n",
       "</table>\n",
       "</div>"
      ],
      "text/plain": [
       "     AC    AF   AR    AS  AST   AY       AwayTeam      Date FTR    HC    HF  \\\n",
       "0   3.0  12.0  0.0  14.0  4.0  0.0      Stuttgart  07/08/09   H   6.0  12.0   \n",
       "1   1.0  10.0  0.0   7.0  0.0  1.0        FC Koln  08/08/09   H  16.0   8.0   \n",
       "2   3.0  20.0  0.0  15.0  3.0  2.0       Hannover  08/08/09   H   5.0  16.0   \n",
       "3  10.0  28.0  0.0   9.0  3.0  2.0  Bayern Munich  08/08/09   D   3.0  10.0   \n",
       "4   5.0  28.0  0.0  13.0  7.0  2.0     Leverkusen  08/08/09   D   3.0  22.0   \n",
       "5   6.0  21.0  0.0   9.0  5.0  1.0     Schalke 04  08/08/09   A   9.0  14.0   \n",
       "6   3.0  20.0  0.0  15.0  8.0  2.0  Ein Frankfurt  08/08/09   A   9.0  18.0   \n",
       "7   5.0  21.0  1.0  10.0  7.0  1.0     M'gladbach  09/08/09   D  11.0  13.0   \n",
       "8   6.0  19.0  0.0  14.0  3.0  1.0        Hamburg  09/08/09   D  12.0  22.0   \n",
       "9   2.0   9.0  0.0  10.0  1.0  0.0  Werder Bremen  15/08/09   D   5.0  13.0   \n",
       "\n",
       "    HR    HS   HST  HTAG  HTHG   HY       HomeTeam      league  \n",
       "0  0.0  13.0   7.0   0.0   0.0  0.0      Wolfsburg  bundesliga  \n",
       "1  0.0  24.0  11.0   0.0   0.0  0.0       Dortmund  bundesliga  \n",
       "2  0.0  10.0   4.0   0.0   0.0  3.0         Hertha  bundesliga  \n",
       "3  0.0   9.0   1.0   1.0   1.0  0.0     Hoffenheim  bundesliga  \n",
       "4  0.0   8.0   4.0   2.0   1.0  1.0          Mainz  bundesliga  \n",
       "5  0.0  14.0   3.0   1.0   0.0  2.0       Nurnberg  bundesliga  \n",
       "6  1.0  22.0  10.0   2.0   2.0  1.0  Werder Bremen  bundesliga  \n",
       "7  0.0  28.0   8.0   3.0   0.0  3.0         Bochum  bundesliga  \n",
       "8  0.0  17.0   6.0   1.0   0.0  2.0       Freiburg  bundesliga  \n",
       "9  0.0   9.0   4.0   1.0   0.0  1.0  Bayern Munich  bundesliga  "
      ]
     },
     "execution_count": 2,
     "metadata": {},
     "output_type": "execute_result"
    }
   ],
   "source": [
    "football=pd.read_csv('/home/joseph/Downloads/bstrac/train.csv')\n",
    "football.head(10)"
   ]
  },
  {
   "cell_type": "code",
   "execution_count": 3,
   "metadata": {},
   "outputs": [
    {
     "data": {
      "text/plain": [
       "(12789, 19)"
      ]
     },
     "execution_count": 3,
     "metadata": {},
     "output_type": "execute_result"
    }
   ],
   "source": [
    "football.shape"
   ]
  },
  {
   "cell_type": "markdown",
   "metadata": {},
   "source": [
    "The dataset contains 12789 entries and 19 columns.Out of 19 features\n",
    "FTR is our target column.Here we need to predict who will win the particular match,whether the home team or away team(otherwise draw)"
   ]
  },
  {
   "cell_type": "code",
   "execution_count": 4,
   "metadata": {},
   "outputs": [
    {
     "data": {
      "text/html": [
       "<div>\n",
       "<style scoped>\n",
       "    .dataframe tbody tr th:only-of-type {\n",
       "        vertical-align: middle;\n",
       "    }\n",
       "\n",
       "    .dataframe tbody tr th {\n",
       "        vertical-align: top;\n",
       "    }\n",
       "\n",
       "    .dataframe thead th {\n",
       "        text-align: right;\n",
       "    }\n",
       "</style>\n",
       "<table border=\"1\" class=\"dataframe\">\n",
       "  <thead>\n",
       "    <tr style=\"text-align: right;\">\n",
       "      <th></th>\n",
       "      <th>AC</th>\n",
       "      <th>AF</th>\n",
       "      <th>AR</th>\n",
       "      <th>AS</th>\n",
       "      <th>AST</th>\n",
       "      <th>AY</th>\n",
       "      <th>HC</th>\n",
       "      <th>HF</th>\n",
       "      <th>HR</th>\n",
       "      <th>HS</th>\n",
       "      <th>HST</th>\n",
       "      <th>HTAG</th>\n",
       "      <th>HTHG</th>\n",
       "      <th>HY</th>\n",
       "    </tr>\n",
       "  </thead>\n",
       "  <tbody>\n",
       "    <tr>\n",
       "      <th>count</th>\n",
       "      <td>12780.000000</td>\n",
       "      <td>12778.000000</td>\n",
       "      <td>12780.000000</td>\n",
       "      <td>12780.000000</td>\n",
       "      <td>12780.000000</td>\n",
       "      <td>12780.000000</td>\n",
       "      <td>12780.000000</td>\n",
       "      <td>12778.000000</td>\n",
       "      <td>12780.000000</td>\n",
       "      <td>12780.000000</td>\n",
       "      <td>12780.000000</td>\n",
       "      <td>12779.000000</td>\n",
       "      <td>12779.000000</td>\n",
       "      <td>12779.000000</td>\n",
       "    </tr>\n",
       "    <tr>\n",
       "      <th>mean</th>\n",
       "      <td>4.497966</td>\n",
       "      <td>14.411802</td>\n",
       "      <td>0.140063</td>\n",
       "      <td>11.234898</td>\n",
       "      <td>4.177465</td>\n",
       "      <td>2.173552</td>\n",
       "      <td>5.791080</td>\n",
       "      <td>13.917123</td>\n",
       "      <td>0.101252</td>\n",
       "      <td>14.061033</td>\n",
       "      <td>5.268545</td>\n",
       "      <td>0.494796</td>\n",
       "      <td>0.691134</td>\n",
       "      <td>1.862431</td>\n",
       "    </tr>\n",
       "    <tr>\n",
       "      <th>std</th>\n",
       "      <td>2.582074</td>\n",
       "      <td>4.668766</td>\n",
       "      <td>0.377728</td>\n",
       "      <td>4.526805</td>\n",
       "      <td>2.497475</td>\n",
       "      <td>1.367718</td>\n",
       "      <td>3.012718</td>\n",
       "      <td>4.572456</td>\n",
       "      <td>0.320539</td>\n",
       "      <td>5.170604</td>\n",
       "      <td>2.872875</td>\n",
       "      <td>0.713903</td>\n",
       "      <td>0.833159</td>\n",
       "      <td>1.313217</td>\n",
       "    </tr>\n",
       "    <tr>\n",
       "      <th>min</th>\n",
       "      <td>0.000000</td>\n",
       "      <td>1.000000</td>\n",
       "      <td>0.000000</td>\n",
       "      <td>0.000000</td>\n",
       "      <td>0.000000</td>\n",
       "      <td>0.000000</td>\n",
       "      <td>0.000000</td>\n",
       "      <td>1.000000</td>\n",
       "      <td>0.000000</td>\n",
       "      <td>1.000000</td>\n",
       "      <td>0.000000</td>\n",
       "      <td>0.000000</td>\n",
       "      <td>0.000000</td>\n",
       "      <td>0.000000</td>\n",
       "    </tr>\n",
       "    <tr>\n",
       "      <th>25%</th>\n",
       "      <td>3.000000</td>\n",
       "      <td>11.000000</td>\n",
       "      <td>0.000000</td>\n",
       "      <td>8.000000</td>\n",
       "      <td>2.000000</td>\n",
       "      <td>1.000000</td>\n",
       "      <td>4.000000</td>\n",
       "      <td>11.000000</td>\n",
       "      <td>0.000000</td>\n",
       "      <td>10.000000</td>\n",
       "      <td>3.000000</td>\n",
       "      <td>0.000000</td>\n",
       "      <td>0.000000</td>\n",
       "      <td>1.000000</td>\n",
       "    </tr>\n",
       "    <tr>\n",
       "      <th>50%</th>\n",
       "      <td>4.000000</td>\n",
       "      <td>14.000000</td>\n",
       "      <td>0.000000</td>\n",
       "      <td>11.000000</td>\n",
       "      <td>4.000000</td>\n",
       "      <td>2.000000</td>\n",
       "      <td>5.000000</td>\n",
       "      <td>14.000000</td>\n",
       "      <td>0.000000</td>\n",
       "      <td>14.000000</td>\n",
       "      <td>5.000000</td>\n",
       "      <td>0.000000</td>\n",
       "      <td>0.000000</td>\n",
       "      <td>2.000000</td>\n",
       "    </tr>\n",
       "    <tr>\n",
       "      <th>75%</th>\n",
       "      <td>6.000000</td>\n",
       "      <td>17.000000</td>\n",
       "      <td>0.000000</td>\n",
       "      <td>14.000000</td>\n",
       "      <td>6.000000</td>\n",
       "      <td>3.000000</td>\n",
       "      <td>8.000000</td>\n",
       "      <td>17.000000</td>\n",
       "      <td>0.000000</td>\n",
       "      <td>17.000000</td>\n",
       "      <td>7.000000</td>\n",
       "      <td>1.000000</td>\n",
       "      <td>1.000000</td>\n",
       "      <td>3.000000</td>\n",
       "    </tr>\n",
       "    <tr>\n",
       "      <th>max</th>\n",
       "      <td>19.000000</td>\n",
       "      <td>34.000000</td>\n",
       "      <td>3.000000</td>\n",
       "      <td>39.000000</td>\n",
       "      <td>20.000000</td>\n",
       "      <td>9.000000</td>\n",
       "      <td>21.000000</td>\n",
       "      <td>38.000000</td>\n",
       "      <td>3.000000</td>\n",
       "      <td>43.000000</td>\n",
       "      <td>24.000000</td>\n",
       "      <td>5.000000</td>\n",
       "      <td>5.000000</td>\n",
       "      <td>8.000000</td>\n",
       "    </tr>\n",
       "  </tbody>\n",
       "</table>\n",
       "</div>"
      ],
      "text/plain": [
       "                 AC            AF            AR            AS           AST  \\\n",
       "count  12780.000000  12778.000000  12780.000000  12780.000000  12780.000000   \n",
       "mean       4.497966     14.411802      0.140063     11.234898      4.177465   \n",
       "std        2.582074      4.668766      0.377728      4.526805      2.497475   \n",
       "min        0.000000      1.000000      0.000000      0.000000      0.000000   \n",
       "25%        3.000000     11.000000      0.000000      8.000000      2.000000   \n",
       "50%        4.000000     14.000000      0.000000     11.000000      4.000000   \n",
       "75%        6.000000     17.000000      0.000000     14.000000      6.000000   \n",
       "max       19.000000     34.000000      3.000000     39.000000     20.000000   \n",
       "\n",
       "                 AY            HC            HF            HR            HS  \\\n",
       "count  12780.000000  12780.000000  12778.000000  12780.000000  12780.000000   \n",
       "mean       2.173552      5.791080     13.917123      0.101252     14.061033   \n",
       "std        1.367718      3.012718      4.572456      0.320539      5.170604   \n",
       "min        0.000000      0.000000      1.000000      0.000000      1.000000   \n",
       "25%        1.000000      4.000000     11.000000      0.000000     10.000000   \n",
       "50%        2.000000      5.000000     14.000000      0.000000     14.000000   \n",
       "75%        3.000000      8.000000     17.000000      0.000000     17.000000   \n",
       "max        9.000000     21.000000     38.000000      3.000000     43.000000   \n",
       "\n",
       "                HST          HTAG          HTHG            HY  \n",
       "count  12780.000000  12779.000000  12779.000000  12779.000000  \n",
       "mean       5.268545      0.494796      0.691134      1.862431  \n",
       "std        2.872875      0.713903      0.833159      1.313217  \n",
       "min        0.000000      0.000000      0.000000      0.000000  \n",
       "25%        3.000000      0.000000      0.000000      1.000000  \n",
       "50%        5.000000      0.000000      0.000000      2.000000  \n",
       "75%        7.000000      1.000000      1.000000      3.000000  \n",
       "max       24.000000      5.000000      5.000000      8.000000  "
      ]
     },
     "execution_count": 4,
     "metadata": {},
     "output_type": "execute_result"
    }
   ],
   "source": [
    "football.describe()"
   ]
  },
  {
   "cell_type": "code",
   "execution_count": 5,
   "metadata": {},
   "outputs": [
    {
     "data": {
      "text/plain": [
       "AC          float64\n",
       "AF          float64\n",
       "AR          float64\n",
       "AS          float64\n",
       "AST         float64\n",
       "AY          float64\n",
       "AwayTeam     object\n",
       "Date         object\n",
       "FTR          object\n",
       "HC          float64\n",
       "HF          float64\n",
       "HR          float64\n",
       "HS          float64\n",
       "HST         float64\n",
       "HTAG        float64\n",
       "HTHG        float64\n",
       "HY          float64\n",
       "HomeTeam     object\n",
       "league       object\n",
       "dtype: object"
      ]
     },
     "execution_count": 5,
     "metadata": {},
     "output_type": "execute_result"
    }
   ],
   "source": [
    "football.dtypes"
   ]
  },
  {
   "cell_type": "code",
   "execution_count": 6,
   "metadata": {},
   "outputs": [
    {
     "data": {
      "text/plain": [
       "13/05/12    38\n",
       "07/04/12    36\n",
       "30/03/13    35\n",
       "15/04/17    34\n",
       "04/04/15    34\n",
       "03/04/10    34\n",
       "07/05/11    32\n",
       "23/05/15    31\n",
       "15/05/11    30\n",
       "05/02/11    30\n",
       "Name: Date, dtype: int64"
      ]
     },
     "execution_count": 6,
     "metadata": {},
     "output_type": "execute_result"
    }
   ],
   "source": [
    "football['Date'].value_counts().head(10)"
   ]
  },
  {
   "cell_type": "code",
   "execution_count": 7,
   "metadata": {},
   "outputs": [
    {
     "data": {
      "text/plain": [
       "serie-a           2665\n",
       "premier-league    2661\n",
       "ligue-1           2661\n",
       "la-liga           2660\n",
       "bundesliga        2142\n",
       "Name: league, dtype: int64"
      ]
     },
     "execution_count": 7,
     "metadata": {},
     "output_type": "execute_result"
    }
   ],
   "source": [
    "football['league'].value_counts()"
   ]
  },
  {
   "cell_type": "code",
   "execution_count": 8,
   "metadata": {},
   "outputs": [],
   "source": [
    "#Date and league columns are not very affected with end results.So we can\n",
    "#drop those columns"
   ]
  },
  {
   "cell_type": "code",
   "execution_count": 9,
   "metadata": {},
   "outputs": [],
   "source": [
    "football_data=football.drop(['Date','league'],axis=1)"
   ]
  },
  {
   "cell_type": "code",
   "execution_count": 10,
   "metadata": {},
   "outputs": [],
   "source": [
    "football_data['Half_time_goal_difference']=football_data['HTHG']-football_data['HTAG']"
   ]
  },
  {
   "cell_type": "code",
   "execution_count": 11,
   "metadata": {},
   "outputs": [],
   "source": [
    "#creating a column that shows the difference between goals of 2 team\n",
    "#during half time"
   ]
  },
  {
   "cell_type": "code",
   "execution_count": 12,
   "metadata": {},
   "outputs": [
    {
     "data": {
      "text/plain": [
       "0    0.0\n",
       "1    0.0\n",
       "2    0.0\n",
       "3    0.0\n",
       "4   -1.0\n",
       "5   -1.0\n",
       "6    0.0\n",
       "7   -3.0\n",
       "8   -1.0\n",
       "9   -1.0\n",
       "Name: Half_time_goal_difference, dtype: float64"
      ]
     },
     "execution_count": 12,
     "metadata": {},
     "output_type": "execute_result"
    }
   ],
   "source": [
    "football_data['Half_time_goal_difference'].head(10)"
   ]
  },
  {
   "cell_type": "markdown",
   "metadata": {},
   "source": [
    "i have created another column named precedence which have the values\n",
    "based on half time goal difference.When half time is over,which ever team leading scoreboard will get the highest precedence"
   ]
  },
  {
   "cell_type": "code",
   "execution_count": 13,
   "metadata": {},
   "outputs": [],
   "source": [
    "football_data['precedence']=0\n",
    "for x,i in zip(football_data['Half_time_goal_difference'],range(football_data.shape[0])):\n",
    "    \n",
    "    if x>0:\n",
    "        \n",
    "        football_data['precedence'].loc[i] =0\n",
    "    elif x<0:\n",
    "        \n",
    "        football_data['precedence'].loc[i]=1\n",
    "    else:\n",
    "        football_data['precedence'].loc[i]=2\n",
    "#zero=Repesents home team\n",
    "#first=Represents away team\n",
    "#second=Represents draw"
   ]
  },
  {
   "cell_type": "code",
   "execution_count": 14,
   "metadata": {},
   "outputs": [
    {
     "data": {
      "text/plain": [
       "2    5398\n",
       "0    4534\n",
       "1    2857\n",
       "Name: precedence, dtype: int64"
      ]
     },
     "execution_count": 14,
     "metadata": {},
     "output_type": "execute_result"
    }
   ],
   "source": [
    "football_data['precedence'].value_counts()"
   ]
  },
  {
   "cell_type": "code",
   "execution_count": 15,
   "metadata": {},
   "outputs": [
    {
     "data": {
      "text/html": [
       "<div>\n",
       "<style scoped>\n",
       "    .dataframe tbody tr th:only-of-type {\n",
       "        vertical-align: middle;\n",
       "    }\n",
       "\n",
       "    .dataframe tbody tr th {\n",
       "        vertical-align: top;\n",
       "    }\n",
       "\n",
       "    .dataframe thead th {\n",
       "        text-align: right;\n",
       "    }\n",
       "</style>\n",
       "<table border=\"1\" class=\"dataframe\">\n",
       "  <thead>\n",
       "    <tr style=\"text-align: right;\">\n",
       "      <th></th>\n",
       "      <th>AC</th>\n",
       "      <th>AF</th>\n",
       "      <th>AR</th>\n",
       "      <th>AS</th>\n",
       "      <th>AST</th>\n",
       "      <th>AY</th>\n",
       "      <th>AwayTeam</th>\n",
       "      <th>FTR</th>\n",
       "      <th>HC</th>\n",
       "      <th>HF</th>\n",
       "      <th>HR</th>\n",
       "      <th>HS</th>\n",
       "      <th>HST</th>\n",
       "      <th>HTAG</th>\n",
       "      <th>HTHG</th>\n",
       "      <th>HY</th>\n",
       "      <th>HomeTeam</th>\n",
       "      <th>Half_time_goal_difference</th>\n",
       "      <th>precedence</th>\n",
       "    </tr>\n",
       "  </thead>\n",
       "  <tbody>\n",
       "    <tr>\n",
       "      <th>0</th>\n",
       "      <td>3.0</td>\n",
       "      <td>12.0</td>\n",
       "      <td>0.0</td>\n",
       "      <td>14.0</td>\n",
       "      <td>4.0</td>\n",
       "      <td>0.0</td>\n",
       "      <td>Stuttgart</td>\n",
       "      <td>H</td>\n",
       "      <td>6.0</td>\n",
       "      <td>12.0</td>\n",
       "      <td>0.0</td>\n",
       "      <td>13.0</td>\n",
       "      <td>7.0</td>\n",
       "      <td>0.0</td>\n",
       "      <td>0.0</td>\n",
       "      <td>0.0</td>\n",
       "      <td>Wolfsburg</td>\n",
       "      <td>0.0</td>\n",
       "      <td>2</td>\n",
       "    </tr>\n",
       "    <tr>\n",
       "      <th>1</th>\n",
       "      <td>1.0</td>\n",
       "      <td>10.0</td>\n",
       "      <td>0.0</td>\n",
       "      <td>7.0</td>\n",
       "      <td>0.0</td>\n",
       "      <td>1.0</td>\n",
       "      <td>FC Koln</td>\n",
       "      <td>H</td>\n",
       "      <td>16.0</td>\n",
       "      <td>8.0</td>\n",
       "      <td>0.0</td>\n",
       "      <td>24.0</td>\n",
       "      <td>11.0</td>\n",
       "      <td>0.0</td>\n",
       "      <td>0.0</td>\n",
       "      <td>0.0</td>\n",
       "      <td>Dortmund</td>\n",
       "      <td>0.0</td>\n",
       "      <td>2</td>\n",
       "    </tr>\n",
       "    <tr>\n",
       "      <th>2</th>\n",
       "      <td>3.0</td>\n",
       "      <td>20.0</td>\n",
       "      <td>0.0</td>\n",
       "      <td>15.0</td>\n",
       "      <td>3.0</td>\n",
       "      <td>2.0</td>\n",
       "      <td>Hannover</td>\n",
       "      <td>H</td>\n",
       "      <td>5.0</td>\n",
       "      <td>16.0</td>\n",
       "      <td>0.0</td>\n",
       "      <td>10.0</td>\n",
       "      <td>4.0</td>\n",
       "      <td>0.0</td>\n",
       "      <td>0.0</td>\n",
       "      <td>3.0</td>\n",
       "      <td>Hertha</td>\n",
       "      <td>0.0</td>\n",
       "      <td>2</td>\n",
       "    </tr>\n",
       "    <tr>\n",
       "      <th>3</th>\n",
       "      <td>10.0</td>\n",
       "      <td>28.0</td>\n",
       "      <td>0.0</td>\n",
       "      <td>9.0</td>\n",
       "      <td>3.0</td>\n",
       "      <td>2.0</td>\n",
       "      <td>Bayern Munich</td>\n",
       "      <td>D</td>\n",
       "      <td>3.0</td>\n",
       "      <td>10.0</td>\n",
       "      <td>0.0</td>\n",
       "      <td>9.0</td>\n",
       "      <td>1.0</td>\n",
       "      <td>1.0</td>\n",
       "      <td>1.0</td>\n",
       "      <td>0.0</td>\n",
       "      <td>Hoffenheim</td>\n",
       "      <td>0.0</td>\n",
       "      <td>2</td>\n",
       "    </tr>\n",
       "    <tr>\n",
       "      <th>4</th>\n",
       "      <td>5.0</td>\n",
       "      <td>28.0</td>\n",
       "      <td>0.0</td>\n",
       "      <td>13.0</td>\n",
       "      <td>7.0</td>\n",
       "      <td>2.0</td>\n",
       "      <td>Leverkusen</td>\n",
       "      <td>D</td>\n",
       "      <td>3.0</td>\n",
       "      <td>22.0</td>\n",
       "      <td>0.0</td>\n",
       "      <td>8.0</td>\n",
       "      <td>4.0</td>\n",
       "      <td>2.0</td>\n",
       "      <td>1.0</td>\n",
       "      <td>1.0</td>\n",
       "      <td>Mainz</td>\n",
       "      <td>-1.0</td>\n",
       "      <td>1</td>\n",
       "    </tr>\n",
       "  </tbody>\n",
       "</table>\n",
       "</div>"
      ],
      "text/plain": [
       "     AC    AF   AR    AS  AST   AY       AwayTeam FTR    HC    HF   HR    HS  \\\n",
       "0   3.0  12.0  0.0  14.0  4.0  0.0      Stuttgart   H   6.0  12.0  0.0  13.0   \n",
       "1   1.0  10.0  0.0   7.0  0.0  1.0        FC Koln   H  16.0   8.0  0.0  24.0   \n",
       "2   3.0  20.0  0.0  15.0  3.0  2.0       Hannover   H   5.0  16.0  0.0  10.0   \n",
       "3  10.0  28.0  0.0   9.0  3.0  2.0  Bayern Munich   D   3.0  10.0  0.0   9.0   \n",
       "4   5.0  28.0  0.0  13.0  7.0  2.0     Leverkusen   D   3.0  22.0  0.0   8.0   \n",
       "\n",
       "    HST  HTAG  HTHG   HY    HomeTeam  Half_time_goal_difference  precedence  \n",
       "0   7.0   0.0   0.0  0.0   Wolfsburg                        0.0           2  \n",
       "1  11.0   0.0   0.0  0.0    Dortmund                        0.0           2  \n",
       "2   4.0   0.0   0.0  3.0      Hertha                        0.0           2  \n",
       "3   1.0   1.0   1.0  0.0  Hoffenheim                        0.0           2  \n",
       "4   4.0   2.0   1.0  1.0       Mainz                       -1.0           1  "
      ]
     },
     "execution_count": 15,
     "metadata": {},
     "output_type": "execute_result"
    }
   ],
   "source": [
    "football_data.head()"
   ]
  },
  {
   "cell_type": "markdown",
   "metadata": {},
   "source": [
    "# EDA"
   ]
  },
  {
   "cell_type": "markdown",
   "metadata": {},
   "source": [
    "## Uni variate analysis"
   ]
  },
  {
   "cell_type": "code",
   "execution_count": 16,
   "metadata": {},
   "outputs": [
    {
     "data": {
      "text/plain": [
       "<matplotlib.axes._subplots.AxesSubplot at 0x7fbf717dfbb0>"
      ]
     },
     "execution_count": 16,
     "metadata": {},
     "output_type": "execute_result"
    },
    {
     "data": {
      "image/png": "[encoded data removed]",
      "text/plain": [
       "<Figure size 432x288 with 1 Axes>"
      ]
     },
     "metadata": {
      "needs_background": "light"
     },
     "output_type": "display_data"
    }
   ],
   "source": [
    "sns.countplot(football_data['FTR'])"
   ]
  },
  {
   "cell_type": "code",
   "execution_count": 17,
   "metadata": {},
   "outputs": [
    {
     "data": {
      "text/plain": [
       "H    5931\n",
       "A    3568\n",
       "D    3283\n",
       "Name: FTR, dtype: int64"
      ]
     },
     "execution_count": 17,
     "metadata": {},
     "output_type": "execute_result"
    }
   ],
   "source": [
    "football_data['FTR'].value_counts()\n",
    "#so the dataset is balanced"
   ]
  },
  {
   "cell_type": "code",
   "execution_count": 18,
   "metadata": {},
   "outputs": [
    {
     "data": {
      "image/png": "[encoded data removed]",
      "text/plain": [
       "<Figure size 432x288 with 1 Axes>"
      ]
     },
     "metadata": {
      "needs_background": "light"
     },
     "output_type": "display_data"
    }
   ],
   "source": [
    "plt.hist([football_data['HST'],football['AST']],bins=[0,2,4,6,8,10,12,14],label=['shot on target(home)', 'shot on target(away)'])\n",
    "plt.legend(loc='upper right')\n",
    "plt.title('Distribution of target shots')\n",
    "plt.show()"
   ]
  },
  {
   "cell_type": "markdown",
   "metadata": {},
   "source": [
    "## Bi variate analysis"
   ]
  },
  {
   "cell_type": "code",
   "execution_count": 19,
   "metadata": {},
   "outputs": [
    {
     "data": {
      "image/png": "[encoded data removed]",
      "text/plain": [
       "<Figure size 1080x576 with 1 Axes>"
      ]
     },
     "metadata": {
      "needs_background": "light"
     },
     "output_type": "display_data"
    }
   ],
   "source": [
    "\n",
    "plt.figure(figsize=(15,8))\n",
    "plt.bar(football_data['HS'],football_data['AS'])\n",
    "\n",
    "plt.xlabel('Home team shots')\n",
    "plt.ylabel('Away team shot')\n",
    "plt.rc('xtick', labelsize=15)\n",
    "plt.rc('ytick', labelsize=15)\n",
    "plt.show()"
   ]
  },
  {
   "cell_type": "code",
   "execution_count": 20,
   "metadata": {},
   "outputs": [
    {
     "data": {
      "image/png": "[encoded data removed]",
      "text/plain": [
       "<Figure size 936x504 with 1 Axes>"
      ]
     },
     "metadata": {
      "needs_background": "light"
     },
     "output_type": "display_data"
    }
   ],
   "source": [
    "plt.figure(figsize=(13,7))\n",
    "sns.lineplot(football_data['HST'],football_data['AST'])\n",
    "plt.xlabel('Home team shot on target')\n",
    "plt.ylabel('Away team shot on target')\n",
    "plt.rc('xtick', labelsize=12)\n",
    "plt.rc('ytick', labelsize=12)\n",
    "plt.show()"
   ]
  },
  {
   "cell_type": "markdown",
   "metadata": {},
   "source": [
    "## Multi variate analysis"
   ]
  },
  {
   "cell_type": "code",
   "execution_count": 21,
   "metadata": {},
   "outputs": [],
   "source": [
    "#As the model doesnt recognise features having datatype of object.We need\n",
    "#to convert into numerical column.So we are mapping values of different\n",
    "#categorical column into numerical values "
   ]
  },
  {
   "cell_type": "code",
   "execution_count": 22,
   "metadata": {},
   "outputs": [],
   "source": [
    "football_data['FTR']=football_data['FTR'].map({'H':0,'A':1,'D':2})"
   ]
  },
  {
   "cell_type": "code",
   "execution_count": 23,
   "metadata": {},
   "outputs": [
    {
     "data": {
      "text/html": [
       "<div>\n",
       "<style scoped>\n",
       "    .dataframe tbody tr th:only-of-type {\n",
       "        vertical-align: middle;\n",
       "    }\n",
       "\n",
       "    .dataframe tbody tr th {\n",
       "        vertical-align: top;\n",
       "    }\n",
       "\n",
       "    .dataframe thead th {\n",
       "        text-align: right;\n",
       "    }\n",
       "</style>\n",
       "<table border=\"1\" class=\"dataframe\">\n",
       "  <thead>\n",
       "    <tr style=\"text-align: right;\">\n",
       "      <th></th>\n",
       "      <th>AC</th>\n",
       "      <th>AF</th>\n",
       "      <th>AR</th>\n",
       "      <th>AS</th>\n",
       "      <th>AST</th>\n",
       "      <th>AY</th>\n",
       "      <th>FTR</th>\n",
       "      <th>HC</th>\n",
       "      <th>HF</th>\n",
       "      <th>HR</th>\n",
       "      <th>HS</th>\n",
       "      <th>HST</th>\n",
       "      <th>HTAG</th>\n",
       "      <th>HTHG</th>\n",
       "      <th>HY</th>\n",
       "      <th>Half_time_goal_difference</th>\n",
       "      <th>precedence</th>\n",
       "    </tr>\n",
       "  </thead>\n",
       "  <tbody>\n",
       "    <tr>\n",
       "      <th>AC</th>\n",
       "      <td>1.000000</td>\n",
       "      <td>-0.086812</td>\n",
       "      <td>-0.059562</td>\n",
       "      <td>0.462510</td>\n",
       "      <td>0.308377</td>\n",
       "      <td>-0.041292</td>\n",
       "      <td>0.000243</td>\n",
       "      <td>-0.210489</td>\n",
       "      <td>-0.011895</td>\n",
       "      <td>0.055087</td>\n",
       "      <td>-0.243891</td>\n",
       "      <td>-0.125377</td>\n",
       "      <td>-0.040859</td>\n",
       "      <td>0.046844</td>\n",
       "      <td>0.056782</td>\n",
       "      <td>0.061044</td>\n",
       "      <td>-0.056558</td>\n",
       "    </tr>\n",
       "    <tr>\n",
       "      <th>AF</th>\n",
       "      <td>-0.086812</td>\n",
       "      <td>1.000000</td>\n",
       "      <td>0.066294</td>\n",
       "      <td>-0.090146</td>\n",
       "      <td>-0.139759</td>\n",
       "      <td>0.341632</td>\n",
       "      <td>0.028337</td>\n",
       "      <td>-0.036690</td>\n",
       "      <td>0.259481</td>\n",
       "      <td>0.044719</td>\n",
       "      <td>-0.000256</td>\n",
       "      <td>-0.109941</td>\n",
       "      <td>-0.017968</td>\n",
       "      <td>-0.049478</td>\n",
       "      <td>0.078126</td>\n",
       "      <td>-0.025416</td>\n",
       "      <td>0.045912</td>\n",
       "    </tr>\n",
       "    <tr>\n",
       "      <th>AR</th>\n",
       "      <td>-0.059562</td>\n",
       "      <td>0.066294</td>\n",
       "      <td>1.000000</td>\n",
       "      <td>-0.107248</td>\n",
       "      <td>-0.093375</td>\n",
       "      <td>0.030043</td>\n",
       "      <td>-0.070220</td>\n",
       "      <td>0.053015</td>\n",
       "      <td>0.051717</td>\n",
       "      <td>0.085158</td>\n",
       "      <td>0.107248</td>\n",
       "      <td>0.079345</td>\n",
       "      <td>-0.015870</td>\n",
       "      <td>0.052685</td>\n",
       "      <td>0.081130</td>\n",
       "      <td>0.049432</td>\n",
       "      <td>-0.027292</td>\n",
       "    </tr>\n",
       "    <tr>\n",
       "      <th>AS</th>\n",
       "      <td>0.462510</td>\n",
       "      <td>-0.090146</td>\n",
       "      <td>-0.107248</td>\n",
       "      <td>1.000000</td>\n",
       "      <td>0.654313</td>\n",
       "      <td>-0.076694</td>\n",
       "      <td>0.079667</td>\n",
       "      <td>-0.251824</td>\n",
       "      <td>0.063347</td>\n",
       "      <td>0.110775</td>\n",
       "      <td>-0.295261</td>\n",
       "      <td>-0.197498</td>\n",
       "      <td>0.129255</td>\n",
       "      <td>0.004731</td>\n",
       "      <td>0.088662</td>\n",
       "      <td>-0.079068</td>\n",
       "      <td>-0.024471</td>\n",
       "    </tr>\n",
       "    <tr>\n",
       "      <th>AST</th>\n",
       "      <td>0.308377</td>\n",
       "      <td>-0.139759</td>\n",
       "      <td>-0.093375</td>\n",
       "      <td>0.654313</td>\n",
       "      <td>1.000000</td>\n",
       "      <td>-0.089542</td>\n",
       "      <td>0.128721</td>\n",
       "      <td>-0.133790</td>\n",
       "      <td>-0.035554</td>\n",
       "      <td>0.093094</td>\n",
       "      <td>-0.182743</td>\n",
       "      <td>-0.039242</td>\n",
       "      <td>0.326084</td>\n",
       "      <td>-0.028275</td>\n",
       "      <td>0.038714</td>\n",
       "      <td>-0.229459</td>\n",
       "      <td>0.002898</td>\n",
       "    </tr>\n",
       "    <tr>\n",
       "      <th>AY</th>\n",
       "      <td>-0.041292</td>\n",
       "      <td>0.341632</td>\n",
       "      <td>0.030043</td>\n",
       "      <td>-0.076694</td>\n",
       "      <td>-0.089542</td>\n",
       "      <td>1.000000</td>\n",
       "      <td>0.019077</td>\n",
       "      <td>0.030564</td>\n",
       "      <td>0.122789</td>\n",
       "      <td>0.079506</td>\n",
       "      <td>0.037297</td>\n",
       "      <td>-0.017518</td>\n",
       "      <td>-0.024562</td>\n",
       "      <td>-0.011327</td>\n",
       "      <td>0.214518</td>\n",
       "      <td>0.007248</td>\n",
       "      <td>0.018793</td>\n",
       "    </tr>\n",
       "    <tr>\n",
       "      <th>FTR</th>\n",
       "      <td>0.000243</td>\n",
       "      <td>0.028337</td>\n",
       "      <td>-0.070220</td>\n",
       "      <td>0.079667</td>\n",
       "      <td>0.128721</td>\n",
       "      <td>0.019077</td>\n",
       "      <td>1.000000</td>\n",
       "      <td>0.031441</td>\n",
       "      <td>0.036699</td>\n",
       "      <td>0.067925</td>\n",
       "      <td>-0.114893</td>\n",
       "      <td>-0.277688</td>\n",
       "      <td>0.170421</td>\n",
       "      <td>-0.353927</td>\n",
       "      <td>0.076757</td>\n",
       "      <td>-0.372847</td>\n",
       "      <td>0.345469</td>\n",
       "    </tr>\n",
       "    <tr>\n",
       "      <th>HC</th>\n",
       "      <td>-0.210489</td>\n",
       "      <td>-0.036690</td>\n",
       "      <td>0.053015</td>\n",
       "      <td>-0.251824</td>\n",
       "      <td>-0.133790</td>\n",
       "      <td>0.030564</td>\n",
       "      <td>0.031441</td>\n",
       "      <td>1.000000</td>\n",
       "      <td>-0.133417</td>\n",
       "      <td>-0.062368</td>\n",
       "      <td>0.483544</td>\n",
       "      <td>0.307719</td>\n",
       "      <td>0.040649</td>\n",
       "      <td>-0.068763</td>\n",
       "      <td>-0.063156</td>\n",
       "      <td>-0.077256</td>\n",
       "      <td>0.075578</td>\n",
       "    </tr>\n",
       "    <tr>\n",
       "      <th>HF</th>\n",
       "      <td>-0.011895</td>\n",
       "      <td>0.259481</td>\n",
       "      <td>0.051717</td>\n",
       "      <td>0.063347</td>\n",
       "      <td>-0.035554</td>\n",
       "      <td>0.122789</td>\n",
       "      <td>0.036699</td>\n",
       "      <td>-0.133417</td>\n",
       "      <td>1.000000</td>\n",
       "      <td>0.081068</td>\n",
       "      <td>-0.157631</td>\n",
       "      <td>-0.195696</td>\n",
       "      <td>-0.005251</td>\n",
       "      <td>-0.027625</td>\n",
       "      <td>0.364182</td>\n",
       "      <td>-0.017246</td>\n",
       "      <td>0.001031</td>\n",
       "    </tr>\n",
       "    <tr>\n",
       "      <th>HR</th>\n",
       "      <td>0.055087</td>\n",
       "      <td>0.044719</td>\n",
       "      <td>0.085158</td>\n",
       "      <td>0.110775</td>\n",
       "      <td>0.093094</td>\n",
       "      <td>0.079506</td>\n",
       "      <td>0.067925</td>\n",
       "      <td>-0.062368</td>\n",
       "      <td>0.081068</td>\n",
       "      <td>1.000000</td>\n",
       "      <td>-0.117234</td>\n",
       "      <td>-0.106180</td>\n",
       "      <td>0.076855</td>\n",
       "      <td>-0.045809</td>\n",
       "      <td>0.054280</td>\n",
       "      <td>-0.083274</td>\n",
       "      <td>0.017902</td>\n",
       "    </tr>\n",
       "    <tr>\n",
       "      <th>HS</th>\n",
       "      <td>-0.243891</td>\n",
       "      <td>-0.000256</td>\n",
       "      <td>0.107248</td>\n",
       "      <td>-0.295261</td>\n",
       "      <td>-0.182743</td>\n",
       "      <td>0.037297</td>\n",
       "      <td>-0.114893</td>\n",
       "      <td>0.483544</td>\n",
       "      <td>-0.157631</td>\n",
       "      <td>-0.117234</td>\n",
       "      <td>1.000000</td>\n",
       "      <td>0.644515</td>\n",
       "      <td>0.012032</td>\n",
       "      <td>0.093830</td>\n",
       "      <td>-0.107867</td>\n",
       "      <td>0.062286</td>\n",
       "      <td>-0.037156</td>\n",
       "    </tr>\n",
       "    <tr>\n",
       "      <th>HST</th>\n",
       "      <td>-0.125377</td>\n",
       "      <td>-0.109941</td>\n",
       "      <td>0.079345</td>\n",
       "      <td>-0.197498</td>\n",
       "      <td>-0.039242</td>\n",
       "      <td>-0.017518</td>\n",
       "      <td>-0.277688</td>\n",
       "      <td>0.307719</td>\n",
       "      <td>-0.195696</td>\n",
       "      <td>-0.106180</td>\n",
       "      <td>0.644515</td>\n",
       "      <td>1.000000</td>\n",
       "      <td>-0.012253</td>\n",
       "      <td>0.317558</td>\n",
       "      <td>-0.151334</td>\n",
       "      <td>0.244653</td>\n",
       "      <td>-0.204498</td>\n",
       "    </tr>\n",
       "    <tr>\n",
       "      <th>HTAG</th>\n",
       "      <td>-0.040859</td>\n",
       "      <td>-0.017968</td>\n",
       "      <td>-0.015870</td>\n",
       "      <td>0.129255</td>\n",
       "      <td>0.326084</td>\n",
       "      <td>-0.024562</td>\n",
       "      <td>0.170421</td>\n",
       "      <td>0.040649</td>\n",
       "      <td>-0.005251</td>\n",
       "      <td>0.076855</td>\n",
       "      <td>0.012032</td>\n",
       "      <td>-0.012253</td>\n",
       "      <td>1.000000</td>\n",
       "      <td>-0.037241</td>\n",
       "      <td>0.080048</td>\n",
       "      <td>-0.666789</td>\n",
       "      <td>0.067053</td>\n",
       "    </tr>\n",
       "    <tr>\n",
       "      <th>HTHG</th>\n",
       "      <td>0.046844</td>\n",
       "      <td>-0.049478</td>\n",
       "      <td>0.052685</td>\n",
       "      <td>0.004731</td>\n",
       "      <td>-0.028275</td>\n",
       "      <td>-0.011327</td>\n",
       "      <td>-0.353927</td>\n",
       "      <td>-0.068763</td>\n",
       "      <td>-0.027625</td>\n",
       "      <td>-0.045809</td>\n",
       "      <td>0.093830</td>\n",
       "      <td>0.317558</td>\n",
       "      <td>-0.037241</td>\n",
       "      <td>1.000000</td>\n",
       "      <td>-0.082180</td>\n",
       "      <td>0.769561</td>\n",
       "      <td>-0.628726</td>\n",
       "    </tr>\n",
       "    <tr>\n",
       "      <th>HY</th>\n",
       "      <td>0.056782</td>\n",
       "      <td>0.078126</td>\n",
       "      <td>0.081130</td>\n",
       "      <td>0.088662</td>\n",
       "      <td>0.038714</td>\n",
       "      <td>0.214518</td>\n",
       "      <td>0.076757</td>\n",
       "      <td>-0.063156</td>\n",
       "      <td>0.364182</td>\n",
       "      <td>0.054280</td>\n",
       "      <td>-0.107867</td>\n",
       "      <td>-0.151334</td>\n",
       "      <td>0.080048</td>\n",
       "      <td>-0.082180</td>\n",
       "      <td>1.000000</td>\n",
       "      <td>-0.112436</td>\n",
       "      <td>0.046628</td>\n",
       "    </tr>\n",
       "    <tr>\n",
       "      <th>Half_time_goal_difference</th>\n",
       "      <td>0.061044</td>\n",
       "      <td>-0.025416</td>\n",
       "      <td>0.049432</td>\n",
       "      <td>-0.079068</td>\n",
       "      <td>-0.229459</td>\n",
       "      <td>0.007248</td>\n",
       "      <td>-0.372847</td>\n",
       "      <td>-0.077256</td>\n",
       "      <td>-0.017246</td>\n",
       "      <td>-0.083274</td>\n",
       "      <td>0.062286</td>\n",
       "      <td>0.244653</td>\n",
       "      <td>-0.666789</td>\n",
       "      <td>0.769561</td>\n",
       "      <td>-0.112436</td>\n",
       "      <td>1.000000</td>\n",
       "      <td>-0.511729</td>\n",
       "    </tr>\n",
       "    <tr>\n",
       "      <th>precedence</th>\n",
       "      <td>-0.056558</td>\n",
       "      <td>0.045912</td>\n",
       "      <td>-0.027292</td>\n",
       "      <td>-0.024471</td>\n",
       "      <td>0.002898</td>\n",
       "      <td>0.018793</td>\n",
       "      <td>0.345469</td>\n",
       "      <td>0.075578</td>\n",
       "      <td>0.001031</td>\n",
       "      <td>0.017902</td>\n",
       "      <td>-0.037156</td>\n",
       "      <td>-0.204498</td>\n",
       "      <td>0.067053</td>\n",
       "      <td>-0.628726</td>\n",
       "      <td>0.046628</td>\n",
       "      <td>-0.511729</td>\n",
       "      <td>1.000000</td>\n",
       "    </tr>\n",
       "  </tbody>\n",
       "</table>\n",
       "</div>"
      ],
      "text/plain": [
       "                                 AC        AF        AR        AS       AST  \\\n",
       "AC                         1.000000 -0.086812 -0.059562  0.462510  0.308377   \n",
       "AF                        -0.086812  1.000000  0.066294 -0.090146 -0.139759   \n",
       "AR                        -0.059562  0.066294  1.000000 -0.107248 -0.093375   \n",
       "AS                         0.462510 -0.090146 -0.107248  1.000000  0.654313   \n",
       "AST                        0.308377 -0.139759 -0.093375  0.654313  1.000000   \n",
       "AY                        -0.041292  0.341632  0.030043 -0.076694 -0.089542   \n",
       "FTR                        0.000243  0.028337 -0.070220  0.079667  0.128721   \n",
       "HC                        -0.210489 -0.036690  0.053015 -0.251824 -0.133790   \n",
       "HF                        -0.011895  0.259481  0.051717  0.063347 -0.035554   \n",
       "HR                         0.055087  0.044719  0.085158  0.110775  0.093094   \n",
       "HS                        -0.243891 -0.000256  0.107248 -0.295261 -0.182743   \n",
       "HST                       -0.125377 -0.109941  0.079345 -0.197498 -0.039242   \n",
       "HTAG                      -0.040859 -0.017968 -0.015870  0.129255  0.326084   \n",
       "HTHG                       0.046844 -0.049478  0.052685  0.004731 -0.028275   \n",
       "HY                         0.056782  0.078126  0.081130  0.088662  0.038714   \n",
       "Half_time_goal_difference  0.061044 -0.025416  0.049432 -0.079068 -0.229459   \n",
       "precedence                -0.056558  0.045912 -0.027292 -0.024471  0.002898   \n",
       "\n",
       "                                 AY       FTR        HC        HF        HR  \\\n",
       "AC                        -0.041292  0.000243 -0.210489 -0.011895  0.055087   \n",
       "AF                         0.341632  0.028337 -0.036690  0.259481  0.044719   \n",
       "AR                         0.030043 -0.070220  0.053015  0.051717  0.085158   \n",
       "AS                        -0.076694  0.079667 -0.251824  0.063347  0.110775   \n",
       "AST                       -0.089542  0.128721 -0.133790 -0.035554  0.093094   \n",
       "AY                         1.000000  0.019077  0.030564  0.122789  0.079506   \n",
       "FTR                        0.019077  1.000000  0.031441  0.036699  0.067925   \n",
       "HC                         0.030564  0.031441  1.000000 -0.133417 -0.062368   \n",
       "HF                         0.122789  0.036699 -0.133417  1.000000  0.081068   \n",
       "HR                         0.079506  0.067925 -0.062368  0.081068  1.000000   \n",
       "HS                         0.037297 -0.114893  0.483544 -0.157631 -0.117234   \n",
       "HST                       -0.017518 -0.277688  0.307719 -0.195696 -0.106180   \n",
       "HTAG                      -0.024562  0.170421  0.040649 -0.005251  0.076855   \n",
       "HTHG                      -0.011327 -0.353927 -0.068763 -0.027625 -0.045809   \n",
       "HY                         0.214518  0.076757 -0.063156  0.364182  0.054280   \n",
       "Half_time_goal_difference  0.007248 -0.372847 -0.077256 -0.017246 -0.083274   \n",
       "precedence                 0.018793  0.345469  0.075578  0.001031  0.017902   \n",
       "\n",
       "                                 HS       HST      HTAG      HTHG        HY  \\\n",
       "AC                        -0.243891 -0.125377 -0.040859  0.046844  0.056782   \n",
       "AF                        -0.000256 -0.109941 -0.017968 -0.049478  0.078126   \n",
       "AR                         0.107248  0.079345 -0.015870  0.052685  0.081130   \n",
       "AS                        -0.295261 -0.197498  0.129255  0.004731  0.088662   \n",
       "AST                       -0.182743 -0.039242  0.326084 -0.028275  0.038714   \n",
       "AY                         0.037297 -0.017518 -0.024562 -0.011327  0.214518   \n",
       "FTR                       -0.114893 -0.277688  0.170421 -0.353927  0.076757   \n",
       "HC                         0.483544  0.307719  0.040649 -0.068763 -0.063156   \n",
       "HF                        -0.157631 -0.195696 -0.005251 -0.027625  0.364182   \n",
       "HR                        -0.117234 -0.106180  0.076855 -0.045809  0.054280   \n",
       "HS                         1.000000  0.644515  0.012032  0.093830 -0.107867   \n",
       "HST                        0.644515  1.000000 -0.012253  0.317558 -0.151334   \n",
       "HTAG                       0.012032 -0.012253  1.000000 -0.037241  0.080048   \n",
       "HTHG                       0.093830  0.317558 -0.037241  1.000000 -0.082180   \n",
       "HY                        -0.107867 -0.151334  0.080048 -0.082180  1.000000   \n",
       "Half_time_goal_difference  0.062286  0.244653 -0.666789  0.769561 -0.112436   \n",
       "precedence                -0.037156 -0.204498  0.067053 -0.628726  0.046628   \n",
       "\n",
       "                           Half_time_goal_difference  precedence  \n",
       "AC                                          0.061044   -0.056558  \n",
       "AF                                         -0.025416    0.045912  \n",
       "AR                                          0.049432   -0.027292  \n",
       "AS                                         -0.079068   -0.024471  \n",
       "AST                                        -0.229459    0.002898  \n",
       "AY                                          0.007248    0.018793  \n",
       "FTR                                        -0.372847    0.345469  \n",
       "HC                                         -0.077256    0.075578  \n",
       "HF                                         -0.017246    0.001031  \n",
       "HR                                         -0.083274    0.017902  \n",
       "HS                                          0.062286   -0.037156  \n",
       "HST                                         0.244653   -0.204498  \n",
       "HTAG                                       -0.666789    0.067053  \n",
       "HTHG                                        0.769561   -0.628726  \n",
       "HY                                         -0.112436    0.046628  \n",
       "Half_time_goal_difference                   1.000000   -0.511729  \n",
       "precedence                                 -0.511729    1.000000  "
      ]
     },
     "execution_count": 23,
     "metadata": {},
     "output_type": "execute_result"
    }
   ],
   "source": [
    "correlation=football_data.corr()\n",
    "correlation"
   ]
  },
  {
   "cell_type": "code",
   "execution_count": 24,
   "metadata": {},
   "outputs": [
    {
     "data": {
      "image/png": "[encoded data removed]",
      "text/plain": [
       "<Figure size 2160x1080 with 2 Axes>"
      ]
     },
     "metadata": {
      "needs_background": "light"
     },
     "output_type": "display_data"
    }
   ],
   "source": [
    "plt.figure(figsize=(30,15))\n",
    "sns.set(font_scale=2.5)\n",
    "sns.heatmap(correlation,vmin=-1,vmax=1)\n",
    "plt.show()"
   ]
  },
  {
   "cell_type": "markdown",
   "metadata": {},
   "source": [
    "top 3 features with high postive correlation wrt target variable"
   ]
  },
  {
   "cell_type": "code",
   "execution_count": 25,
   "metadata": {},
   "outputs": [
    {
     "data": {
      "text/plain": [
       "FTR           1.000000\n",
       "precedence    0.345469\n",
       "HTAG          0.170421\n",
       "AST           0.128721\n",
       "Name: FTR, dtype: float64"
      ]
     },
     "execution_count": 25,
     "metadata": {},
     "output_type": "execute_result"
    }
   ],
   "source": [
    "correlation['FTR'].sort_values(ascending=False).head(4)"
   ]
  },
  {
   "cell_type": "markdown",
   "metadata": {},
   "source": [
    "top 3 features with high negative correlation wrt target variable"
   ]
  },
  {
   "cell_type": "code",
   "execution_count": 26,
   "metadata": {},
   "outputs": [
    {
     "data": {
      "text/plain": [
       "Half_time_goal_difference   -0.372847\n",
       "HTHG                        -0.353927\n",
       "HST                         -0.277688\n",
       "HS                          -0.114893\n",
       "Name: FTR, dtype: float64"
      ]
     },
     "execution_count": 26,
     "metadata": {},
     "output_type": "execute_result"
    }
   ],
   "source": [
    "correlation['FTR'].sort_values(ascending=True).head(4)"
   ]
  },
  {
   "cell_type": "markdown",
   "metadata": {},
   "source": [
    "checking for missing values"
   ]
  },
  {
   "cell_type": "code",
   "execution_count": 27,
   "metadata": {},
   "outputs": [
    {
     "data": {
      "text/plain": [
       "<matplotlib.axes._subplots.AxesSubplot at 0x7fbf5f3b9a90>"
      ]
     },
     "execution_count": 27,
     "metadata": {},
     "output_type": "execute_result"
    },
    {
     "data": {
      "image/png": "[encoded data removed]",
      "text/plain": [
       "<Figure size 1728x720 with 3 Axes>"
      ]
     },
     "metadata": {},
     "output_type": "display_data"
    }
   ],
   "source": [
    "import missingno as msno\n",
    "msno.bar(football_data)\n"
   ]
  },
  {
   "cell_type": "code",
   "execution_count": 28,
   "metadata": {},
   "outputs": [],
   "source": [
    "#checking for correlation between missingness of different variable"
   ]
  },
  {
   "cell_type": "code",
   "execution_count": 29,
   "metadata": {},
   "outputs": [
    {
     "data": {
      "text/plain": [
       "<matplotlib.axes._subplots.AxesSubplot at 0x7fbf5d91d130>"
      ]
     },
     "execution_count": 29,
     "metadata": {},
     "output_type": "execute_result"
    },
    {
     "data": {
      "image/png": "[encoded data removed]",
      "text/plain": [
       "<Figure size 1800x720 with 2 Axes>"
      ]
     },
     "metadata": {},
     "output_type": "display_data"
    }
   ],
   "source": [
    "msno.matrix(football_data)"
   ]
  },
  {
   "cell_type": "code",
   "execution_count": 30,
   "metadata": {},
   "outputs": [
    {
     "data": {
      "text/plain": [
       "AC                            9\n",
       "AF                           11\n",
       "AR                            9\n",
       "AS                            9\n",
       "AST                           9\n",
       "AY                            9\n",
       "AwayTeam                      7\n",
       "FTR                           7\n",
       "HC                            9\n",
       "HF                           11\n",
       "HR                            9\n",
       "HS                            9\n",
       "HST                           9\n",
       "HTAG                         10\n",
       "HTHG                         10\n",
       "HY                           10\n",
       "HomeTeam                      7\n",
       "Half_time_goal_difference    10\n",
       "precedence                    0\n",
       "dtype: int64"
      ]
     },
     "execution_count": 30,
     "metadata": {},
     "output_type": "execute_result"
    }
   ],
   "source": [
    "football_data.isna().sum()"
   ]
  },
  {
   "cell_type": "markdown",
   "metadata": {},
   "source": [
    "# Preprocessing"
   ]
  },
  {
   "cell_type": "markdown",
   "metadata": {},
   "source": [
    "## Missing value imputation"
   ]
  },
  {
   "cell_type": "markdown",
   "metadata": {},
   "source": [
    "Since the dataset doesnt contain too many missing values.Also i didnt\n",
    "find any relation ship between missingness of different columns.\n",
    "So iam using mean,mode,median technique for imputing missing values.Also used forward fill method to impute missing values in object column"
   ]
  },
  {
   "cell_type": "code",
   "execution_count": 31,
   "metadata": {},
   "outputs": [],
   "source": [
    "for x in football_data:\n",
    "    if football_data[x].dtypes=='float64':\n",
    "        \n",
    "        football_data[x]=football_data[x].fillna(football_data[x].mode().max())\n",
    "    else:\n",
    "        football_data[x]=football_data[x].fillna(method='ffill')"
   ]
  },
  {
   "cell_type": "code",
   "execution_count": 32,
   "metadata": {},
   "outputs": [
    {
     "data": {
      "text/plain": [
       "AC                           0\n",
       "AF                           0\n",
       "AR                           0\n",
       "AS                           0\n",
       "AST                          0\n",
       "AY                           0\n",
       "AwayTeam                     0\n",
       "FTR                          0\n",
       "HC                           0\n",
       "HF                           0\n",
       "HR                           0\n",
       "HS                           0\n",
       "HST                          0\n",
       "HTAG                         0\n",
       "HTHG                         0\n",
       "HY                           0\n",
       "HomeTeam                     0\n",
       "Half_time_goal_difference    0\n",
       "precedence                   0\n",
       "dtype: int64"
      ]
     },
     "execution_count": 32,
     "metadata": {},
     "output_type": "execute_result"
    }
   ],
   "source": [
    "football_data.isna().sum()"
   ]
  },
  {
   "cell_type": "markdown",
   "metadata": {},
   "source": [
    "## Label encoding"
   ]
  },
  {
   "cell_type": "code",
   "execution_count": 33,
   "metadata": {},
   "outputs": [],
   "source": [
    "#Since the model only recognise numerical values.So we need to convert \n",
    "#every string values into numerical datatypes.Here hometeam and away\n",
    "#team are two object columns.Attributes in one column is also repeating\n",
    "#in another column"
   ]
  },
  {
   "cell_type": "code",
   "execution_count": 34,
   "metadata": {},
   "outputs": [],
   "source": [
    "lst=['HomeTeam','AwayTeam']\n",
    "football_data_object=football_data[lst]"
   ]
  },
  {
   "cell_type": "code",
   "execution_count": 35,
   "metadata": {},
   "outputs": [],
   "source": [
    "from sklearn.preprocessing import LabelEncoder\n",
    "le= LabelEncoder()\n",
    "le.fit(football_data_object.stack().unique())\n",
    "\n",
    "football_data['AwayTeam'] = le.transform(football_data['AwayTeam'])\n",
    "football_data['HomeTeam'] = le.transform(football_data['HomeTeam'])"
   ]
  },
  {
   "cell_type": "markdown",
   "metadata": {},
   "source": [
    "# Outliers"
   ]
  },
  {
   "cell_type": "code",
   "execution_count": 36,
   "metadata": {},
   "outputs": [],
   "source": [
    "#As the linear models affect outliers.So we can replace outliers by \n",
    "#IQR method"
   ]
  },
  {
   "cell_type": "code",
   "execution_count": 37,
   "metadata": {},
   "outputs": [
    {
     "data": {
      "image/png": "[encoded data removed]",
      "text/plain": [
       "<Figure size 432x288 with 1 Axes>"
      ]
     },
     "metadata": {},
     "output_type": "display_data"
    },
    {
     "data": {
      "image/png": "[encoded data removed]",
      "text/plain": [
       "<Figure size 432x288 with 1 Axes>"
      ]
     },
     "metadata": {},
     "output_type": "display_data"
    },
    {
     "data": {
      "image/png": "[encoded data removed]",
      "text/plain": [
       "<Figure size 432x288 with 1 Axes>"
      ]
     },
     "metadata": {},
     "output_type": "display_data"
    },
    {
     "data": {
      "image/png": "[encoded data removed]",
      "text/plain": [
       "<Figure size 432x288 with 1 Axes>"
      ]
     },
     "metadata": {},
     "output_type": "display_data"
    },
    {
     "data": {
      "image/png": "[encoded data removed]",
      "text/plain": [
       "<Figure size 432x288 with 1 Axes>"
      ]
     },
     "metadata": {},
     "output_type": "display_data"
    },
    {
     "data": {
      "image/png": "[encoded data removed]",
      "text/plain": [
       "<Figure size 432x288 with 1 Axes>"
      ]
     },
     "metadata": {},
     "output_type": "display_data"
    },
    {
     "data": {
      "image/png": "[encoded data removed]",
      "text/plain": [
       "<Figure size 432x288 with 1 Axes>"
      ]
     },
     "metadata": {},
     "output_type": "display_data"
    },
    {
     "data": {
      "image/png": "[encoded data removed]",
      "text/plain": [
       "<Figure size 432x288 with 1 Axes>"
      ]
     },
     "metadata": {},
     "output_type": "display_data"
    },
    {
     "data": {
      "image/png": "[encoded data removed]",
      "text/plain": [
       "<Figure size 432x288 with 1 Axes>"
      ]
     },
     "metadata": {},
     "output_type": "display_data"
    },
    {
     "data": {
      "image/png": "[encoded data removed]",
      "text/plain": [
       "<Figure size 432x288 with 1 Axes>"
      ]
     },
     "metadata": {},
     "output_type": "display_data"
    },
    {
     "data": {
      "image/png": "[encoded data removed]",
      "text/plain": [
       "<Figure size 432x288 with 1 Axes>"
      ]
     },
     "metadata": {},
     "output_type": "display_data"
    },
    {
     "data": {
      "image/png": "[encoded data removed]",
      "text/plain": [
       "<Figure size 432x288 with 1 Axes>"
      ]
     },
     "metadata": {},
     "output_type": "display_data"
    },
    {
     "data": {
      "image/png": "[encoded data removed]",
      "text/plain": [
       "<Figure size 432x288 with 1 Axes>"
      ]
     },
     "metadata": {},
     "output_type": "display_data"
    },
    {
     "data": {
      "image/png": "[encoded data removed]",
      "text/plain": [
       "<Figure size 432x288 with 1 Axes>"
      ]
     },
     "metadata": {},
     "output_type": "display_data"
    },
    {
     "data": {
      "image/png": "[encoded data removed]",
      "text/plain": [
       "<Figure size 432x288 with 1 Axes>"
      ]
     },
     "metadata": {},
     "output_type": "display_data"
    },
    {
     "data": {
      "image/png": "[encoded data removed]",
      "text/plain": [
       "<Figure size 432x288 with 1 Axes>"
      ]
     },
     "metadata": {},
     "output_type": "display_data"
    },
    {
     "data": {
      "image/png": "[encoded data removed]",
      "text/plain": [
       "<Figure size 432x288 with 1 Axes>"
      ]
     },
     "metadata": {},
     "output_type": "display_data"
    },
    {
     "data": {
      "image/png": "[encoded data removed]",
      "text/plain": [
       "<Figure size 432x288 with 1 Axes>"
      ]
     },
     "metadata": {},
     "output_type": "display_data"
    },
    {
     "data": {
      "image/png": "[encoded data removed]",
      "text/plain": [
       "<Figure size 432x288 with 1 Axes>"
      ]
     },
     "metadata": {},
     "output_type": "display_data"
    }
   ],
   "source": [
    "for x in football_data:\n",
    "    sns.boxplot(football_data[x])\n",
    "    plt.show()\n",
    "   "
   ]
  },
  {
   "cell_type": "code",
   "execution_count": 38,
   "metadata": {},
   "outputs": [],
   "source": [
    "for x in football_data:\n",
    "   \n",
    "    descr = football_data[x].describe()\n",
    "    IQR = descr['75%'] - descr['25%']\n",
    "    upper_limit =  descr['75%'] + 1.5 * IQR\n",
    "    lower_limit =  descr['25%'] - 1.5 * IQR  \n",
    "    #outlier replacement\n",
    "    football_data[x][football_data[x]>upper_limit] = upper_limit\n",
    "    football_data[x][football_data[x]<lower_limit] = lower_limit"
   ]
  },
  {
   "cell_type": "markdown",
   "metadata": {},
   "source": [
    "checking outliers"
   ]
  },
  {
   "cell_type": "code",
   "execution_count": 39,
   "metadata": {},
   "outputs": [
    {
     "data": {
      "text/plain": [
       "<matplotlib.axes._subplots.AxesSubplot at 0x7fbf6cfe0850>"
      ]
     },
     "execution_count": 39,
     "metadata": {},
     "output_type": "execute_result"
    },
    {
     "data": {
      "image/png": "[encoded data removed]",
      "text/plain": [
       "<Figure size 432x288 with 1 Axes>"
      ]
     },
     "metadata": {},
     "output_type": "display_data"
    }
   ],
   "source": [
    "sns.boxplot(football_data['AF'])"
   ]
  },
  {
   "cell_type": "code",
   "execution_count": 40,
   "metadata": {},
   "outputs": [],
   "source": [
    "#outliers are completely replaced"
   ]
  },
  {
   "cell_type": "markdown",
   "metadata": {},
   "source": [
    "# test_data_preparation"
   ]
  },
  {
   "cell_type": "code",
   "execution_count": 41,
   "metadata": {},
   "outputs": [
    {
     "data": {
      "text/html": [
       "<div>\n",
       "<style scoped>\n",
       "    .dataframe tbody tr th:only-of-type {\n",
       "        vertical-align: middle;\n",
       "    }\n",
       "\n",
       "    .dataframe tbody tr th {\n",
       "        vertical-align: top;\n",
       "    }\n",
       "\n",
       "    .dataframe thead th {\n",
       "        text-align: right;\n",
       "    }\n",
       "</style>\n",
       "<table border=\"1\" class=\"dataframe\">\n",
       "  <thead>\n",
       "    <tr style=\"text-align: right;\">\n",
       "      <th></th>\n",
       "      <th>index</th>\n",
       "      <th>AC</th>\n",
       "      <th>AF</th>\n",
       "      <th>AR</th>\n",
       "      <th>AS</th>\n",
       "      <th>AST</th>\n",
       "      <th>AY</th>\n",
       "      <th>AwayTeam</th>\n",
       "      <th>Date</th>\n",
       "      <th>HC</th>\n",
       "      <th>HF</th>\n",
       "      <th>HR</th>\n",
       "      <th>HS</th>\n",
       "      <th>HST</th>\n",
       "      <th>HTAG</th>\n",
       "      <th>HTHG</th>\n",
       "      <th>HY</th>\n",
       "      <th>HomeTeam</th>\n",
       "      <th>Referee</th>\n",
       "      <th>league</th>\n",
       "    </tr>\n",
       "  </thead>\n",
       "  <tbody>\n",
       "    <tr>\n",
       "      <th>0</th>\n",
       "      <td>0</td>\n",
       "      <td>5</td>\n",
       "      <td>17</td>\n",
       "      <td>0</td>\n",
       "      <td>19</td>\n",
       "      <td>4</td>\n",
       "      <td>2</td>\n",
       "      <td>Leverkusen</td>\n",
       "      <td>18/08/17</td>\n",
       "      <td>4</td>\n",
       "      <td>13</td>\n",
       "      <td>0</td>\n",
       "      <td>13</td>\n",
       "      <td>8</td>\n",
       "      <td>0</td>\n",
       "      <td>2</td>\n",
       "      <td>1</td>\n",
       "      <td>Bayern Munich</td>\n",
       "      <td>NaN</td>\n",
       "      <td>bundesliga</td>\n",
       "    </tr>\n",
       "    <tr>\n",
       "      <th>1</th>\n",
       "      <td>1</td>\n",
       "      <td>7</td>\n",
       "      <td>16</td>\n",
       "      <td>0</td>\n",
       "      <td>13</td>\n",
       "      <td>1</td>\n",
       "      <td>3</td>\n",
       "      <td>Augsburg</td>\n",
       "      <td>19/08/17</td>\n",
       "      <td>3</td>\n",
       "      <td>18</td>\n",
       "      <td>0</td>\n",
       "      <td>11</td>\n",
       "      <td>5</td>\n",
       "      <td>0</td>\n",
       "      <td>1</td>\n",
       "      <td>4</td>\n",
       "      <td>Hamburg</td>\n",
       "      <td>NaN</td>\n",
       "      <td>bundesliga</td>\n",
       "    </tr>\n",
       "    <tr>\n",
       "      <th>2</th>\n",
       "      <td>2</td>\n",
       "      <td>1</td>\n",
       "      <td>12</td>\n",
       "      <td>0</td>\n",
       "      <td>9</td>\n",
       "      <td>2</td>\n",
       "      <td>1</td>\n",
       "      <td>Stuttgart</td>\n",
       "      <td>19/08/17</td>\n",
       "      <td>5</td>\n",
       "      <td>18</td>\n",
       "      <td>0</td>\n",
       "      <td>10</td>\n",
       "      <td>3</td>\n",
       "      <td>0</td>\n",
       "      <td>0</td>\n",
       "      <td>2</td>\n",
       "      <td>Hertha</td>\n",
       "      <td>NaN</td>\n",
       "      <td>bundesliga</td>\n",
       "    </tr>\n",
       "    <tr>\n",
       "      <th>3</th>\n",
       "      <td>3</td>\n",
       "      <td>4</td>\n",
       "      <td>15</td>\n",
       "      <td>0</td>\n",
       "      <td>11</td>\n",
       "      <td>2</td>\n",
       "      <td>3</td>\n",
       "      <td>Werder Bremen</td>\n",
       "      <td>19/08/17</td>\n",
       "      <td>6</td>\n",
       "      <td>17</td>\n",
       "      <td>0</td>\n",
       "      <td>14</td>\n",
       "      <td>3</td>\n",
       "      <td>0</td>\n",
       "      <td>0</td>\n",
       "      <td>1</td>\n",
       "      <td>Hoffenheim</td>\n",
       "      <td>NaN</td>\n",
       "      <td>bundesliga</td>\n",
       "    </tr>\n",
       "    <tr>\n",
       "      <th>4</th>\n",
       "      <td>4</td>\n",
       "      <td>1</td>\n",
       "      <td>14</td>\n",
       "      <td>0</td>\n",
       "      <td>6</td>\n",
       "      <td>2</td>\n",
       "      <td>5</td>\n",
       "      <td>Hannover</td>\n",
       "      <td>19/08/17</td>\n",
       "      <td>13</td>\n",
       "      <td>18</td>\n",
       "      <td>0</td>\n",
       "      <td>14</td>\n",
       "      <td>6</td>\n",
       "      <td>0</td>\n",
       "      <td>0</td>\n",
       "      <td>3</td>\n",
       "      <td>Mainz</td>\n",
       "      <td>NaN</td>\n",
       "      <td>bundesliga</td>\n",
       "    </tr>\n",
       "  </tbody>\n",
       "</table>\n",
       "</div>"
      ],
      "text/plain": [
       "   index  AC  AF  AR  AS  AST  AY       AwayTeam      Date  HC  HF  HR  HS  \\\n",
       "0      0   5  17   0  19    4   2     Leverkusen  18/08/17   4  13   0  13   \n",
       "1      1   7  16   0  13    1   3       Augsburg  19/08/17   3  18   0  11   \n",
       "2      2   1  12   0   9    2   1      Stuttgart  19/08/17   5  18   0  10   \n",
       "3      3   4  15   0  11    2   3  Werder Bremen  19/08/17   6  17   0  14   \n",
       "4      4   1  14   0   6    2   5       Hannover  19/08/17  13  18   0  14   \n",
       "\n",
       "   HST  HTAG  HTHG  HY       HomeTeam Referee      league  \n",
       "0    8     0     2   1  Bayern Munich     NaN  bundesliga  \n",
       "1    5     0     1   4        Hamburg     NaN  bundesliga  \n",
       "2    3     0     0   2         Hertha     NaN  bundesliga  \n",
       "3    3     0     0   1     Hoffenheim     NaN  bundesliga  \n",
       "4    6     0     0   3          Mainz     NaN  bundesliga  "
      ]
     },
     "execution_count": 41,
     "metadata": {},
     "output_type": "execute_result"
    }
   ],
   "source": [
    "football_test=pd.read_csv('/home/joseph/Downloads/bstrac/test.csv')\n",
    "football_test.head()"
   ]
  },
  {
   "cell_type": "code",
   "execution_count": 42,
   "metadata": {},
   "outputs": [],
   "source": [
    "index=football_test[['index']]"
   ]
  },
  {
   "cell_type": "code",
   "execution_count": 43,
   "metadata": {},
   "outputs": [
    {
     "data": {
      "text/html": [
       "<div>\n",
       "<style scoped>\n",
       "    .dataframe tbody tr th:only-of-type {\n",
       "        vertical-align: middle;\n",
       "    }\n",
       "\n",
       "    .dataframe tbody tr th {\n",
       "        vertical-align: top;\n",
       "    }\n",
       "\n",
       "    .dataframe thead th {\n",
       "        text-align: right;\n",
       "    }\n",
       "</style>\n",
       "<table border=\"1\" class=\"dataframe\">\n",
       "  <thead>\n",
       "    <tr style=\"text-align: right;\">\n",
       "      <th></th>\n",
       "      <th>index</th>\n",
       "    </tr>\n",
       "  </thead>\n",
       "  <tbody>\n",
       "    <tr>\n",
       "      <th>0</th>\n",
       "      <td>0</td>\n",
       "    </tr>\n",
       "    <tr>\n",
       "      <th>1</th>\n",
       "      <td>1</td>\n",
       "    </tr>\n",
       "    <tr>\n",
       "      <th>2</th>\n",
       "      <td>2</td>\n",
       "    </tr>\n",
       "    <tr>\n",
       "      <th>3</th>\n",
       "      <td>3</td>\n",
       "    </tr>\n",
       "    <tr>\n",
       "      <th>4</th>\n",
       "      <td>4</td>\n",
       "    </tr>\n",
       "  </tbody>\n",
       "</table>\n",
       "</div>"
      ],
      "text/plain": [
       "   index\n",
       "0      0\n",
       "1      1\n",
       "2      2\n",
       "3      3\n",
       "4      4"
      ]
     },
     "execution_count": 43,
     "metadata": {},
     "output_type": "execute_result"
    }
   ],
   "source": [
    "index.head()"
   ]
  },
  {
   "cell_type": "code",
   "execution_count": 44,
   "metadata": {},
   "outputs": [
    {
     "data": {
      "text/plain": [
       "(1826, 20)"
      ]
     },
     "execution_count": 44,
     "metadata": {},
     "output_type": "execute_result"
    }
   ],
   "source": [
    "football_test.shape"
   ]
  },
  {
   "cell_type": "code",
   "execution_count": 45,
   "metadata": {},
   "outputs": [],
   "source": [
    "football_test.drop(['index','Date','Referee','league'],axis=1,inplace=True)"
   ]
  },
  {
   "cell_type": "code",
   "execution_count": 46,
   "metadata": {},
   "outputs": [],
   "source": [
    "football_test['Half_time_goal_difference']=football_test['HTHG']-football_test['HTAG']"
   ]
  },
  {
   "cell_type": "code",
   "execution_count": 47,
   "metadata": {},
   "outputs": [],
   "source": [
    "football_test['precedence']=0\n",
    "for x,i in zip(football_test['Half_time_goal_difference'],range(football_test.shape[0])):\n",
    "    \n",
    "    if x>0:\n",
    "        \n",
    "        football_test['precedence'].loc[i] =0\n",
    "    elif x<0:\n",
    "        \n",
    "        football_test['precedence'].loc[i]=1\n",
    "    else:\n",
    "        football_test['precedence'].loc[i]=2\n",
    "#zero=Repesents home team\n",
    "#first=Represents away team\n",
    "#second=Represents draw"
   ]
  },
  {
   "cell_type": "code",
   "execution_count": 48,
   "metadata": {},
   "outputs": [],
   "source": [
    "\n",
    "for x in football_test:\n",
    "    if football_test[x].dtypes=='float64':\n",
    "        football_test[x]=football_test[x].fillna(football_test[x].mode())\n",
    "    else:\n",
    "        football_test[x]=football_test[x].fillna(method='ffill')"
   ]
  },
  {
   "cell_type": "code",
   "execution_count": 49,
   "metadata": {},
   "outputs": [],
   "source": [
    "lst=['HomeTeam','AwayTeam']\n",
    "football_test_object=football_test[lst]\n"
   ]
  },
  {
   "cell_type": "code",
   "execution_count": 50,
   "metadata": {},
   "outputs": [],
   "source": [
    "from sklearn.preprocessing import LabelEncoder\n",
    "le= LabelEncoder()\n",
    "le.fit(football_test_object.stack().unique())\n",
    "\n",
    "football_test['AwayTeam'] = le.transform(football_test['AwayTeam'])\n",
    "football_test['HomeTeam'] = le.transform(football_test['HomeTeam'])"
   ]
  },
  {
   "cell_type": "code",
   "execution_count": 51,
   "metadata": {},
   "outputs": [],
   "source": [
    "for x in football_test:\n",
    "    descr = football_test[x].describe()\n",
    "    IQR = descr['75%'] - descr['25%']\n",
    "    upper_limit =  descr['75%'] + 1.5 * IQR\n",
    "    lower_limit =  descr['25%'] - 1.5 * IQR  \n",
    "    #outlier replacement\n",
    "    football_test[x][football_data[x]>upper_limit] = upper_limit\n",
    "    football_test[x][football_data[x]<lower_limit] = lower_limit"
   ]
  },
  {
   "cell_type": "code",
   "execution_count": 52,
   "metadata": {},
   "outputs": [
    {
     "data": {
      "text/plain": [
       "AC                           0\n",
       "AF                           0\n",
       "AR                           0\n",
       "AS                           0\n",
       "AST                          0\n",
       "AY                           0\n",
       "AwayTeam                     0\n",
       "HC                           0\n",
       "HF                           0\n",
       "HR                           0\n",
       "HS                           0\n",
       "HST                          0\n",
       "HTAG                         0\n",
       "HTHG                         0\n",
       "HY                           0\n",
       "HomeTeam                     0\n",
       "Half_time_goal_difference    0\n",
       "precedence                   0\n",
       "dtype: int64"
      ]
     },
     "execution_count": 52,
     "metadata": {},
     "output_type": "execute_result"
    }
   ],
   "source": [
    "football_test.isna().sum()"
   ]
  },
  {
   "cell_type": "markdown",
   "metadata": {},
   "source": [
    "# Modelling"
   ]
  },
  {
   "cell_type": "code",
   "execution_count": 53,
   "metadata": {},
   "outputs": [],
   "source": [
    "X_train =football_data.drop(['FTR'],axis=1)\n",
    "Y_train = football_data['FTR']\n",
    "X_test = football_test"
   ]
  },
  {
   "cell_type": "markdown",
   "metadata": {},
   "source": [
    "# Logistic regression"
   ]
  },
  {
   "cell_type": "code",
   "execution_count": 54,
   "metadata": {},
   "outputs": [
    {
     "data": {
      "text/plain": [
       "LogisticRegression()"
      ]
     },
     "execution_count": 54,
     "metadata": {},
     "output_type": "execute_result"
    }
   ],
   "source": [
    "from sklearn.linear_model import LogisticRegression\n",
    "classifier=LogisticRegression()\n",
    "classifier.fit(X_train,Y_train) #command for training / fitting the model"
   ]
  },
  {
   "cell_type": "markdown",
   "metadata": {},
   "source": [
    "# K fold cross validation"
   ]
  },
  {
   "cell_type": "code",
   "execution_count": 55,
   "metadata": {},
   "outputs": [
    {
     "name": "stdout",
     "output_type": "stream",
     "text": [
      "Accuracy: 64.82 %\n"
     ]
    }
   ],
   "source": [
    "from sklearn.model_selection import KFold\n",
    "from sklearn.model_selection import cross_val_score\n",
    "kfold = KFold(n_splits=10, random_state=7)\n",
    "results=cross_val_score(classifier,X_train,Y_train,cv=kfold)\n",
    "print(\"Accuracy: {:.2f} %\".format(results.mean()*100))"
   ]
  },
  {
   "cell_type": "markdown",
   "metadata": {},
   "source": [
    "# Ridge classifier"
   ]
  },
  {
   "cell_type": "code",
   "execution_count": 56,
   "metadata": {},
   "outputs": [],
   "source": [
    "from sklearn.linear_model import RidgeClassifier\n",
    "ridge = RidgeClassifier()"
   ]
  },
  {
   "cell_type": "code",
   "execution_count": 57,
   "metadata": {},
   "outputs": [
    {
     "data": {
      "text/plain": [
       "GridSearchCV(estimator=RidgeClassifier(),\n",
       "             param_grid={'alpha': [1e-15, 1e-10, 1e-08, 0.0001, 0.001, 0.01, 1,\n",
       "                                   5, 10, 20]})"
      ]
     },
     "execution_count": 57,
     "metadata": {},
     "output_type": "execute_result"
    }
   ],
   "source": [
    "from sklearn.model_selection import GridSearchCV #this is used for hyper parameter tuning\n",
    "parameters = {'alpha': [1e-15, 1e-10, 1e-8, 1e-4, 1e-3,1e-2, 1, 5, 10, 20]}\n",
    "ridge_classifier = GridSearchCV(ridge, parameters)\n",
    "ridge_classifier.fit(X_train,Y_train)"
   ]
  },
  {
   "cell_type": "code",
   "execution_count": 58,
   "metadata": {},
   "outputs": [
    {
     "data": {
      "text/plain": [
       "{'alpha': 1e-15}"
      ]
     },
     "execution_count": 58,
     "metadata": {},
     "output_type": "execute_result"
    }
   ],
   "source": [
    "ridge_classifier.best_params_"
   ]
  },
  {
   "cell_type": "code",
   "execution_count": 59,
   "metadata": {},
   "outputs": [
    {
     "data": {
      "text/plain": [
       "RidgeClassifier(alpha=1e-15)"
      ]
     },
     "execution_count": 59,
     "metadata": {},
     "output_type": "execute_result"
    }
   ],
   "source": [
    "ridge_classifier = RidgeClassifier(alpha=1e-15)\n",
    "ridge_classifier.fit(X_train,Y_train)"
   ]
  },
  {
   "cell_type": "code",
   "execution_count": 60,
   "metadata": {},
   "outputs": [
    {
     "name": "stdout",
     "output_type": "stream",
     "text": [
      "Accuracy: 65.67 %\n"
     ]
    }
   ],
   "source": [
    "from sklearn.model_selection import KFold\n",
    "from sklearn.model_selection import cross_val_score\n",
    "kfold = KFold(n_splits=10, random_state=7)\n",
    "results=cross_val_score(ridge_classifier,X_train,Y_train,cv=kfold)\n",
    "print(\"Accuracy: {:.2f} %\".format(results.mean()*100))"
   ]
  },
  {
   "cell_type": "markdown",
   "metadata": {},
   "source": [
    "# Random forest classifier"
   ]
  },
  {
   "cell_type": "code",
   "execution_count": 61,
   "metadata": {},
   "outputs": [
    {
     "data": {
      "text/plain": [
       "GridSearchCV(estimator=RandomForestClassifier(),\n",
       "             param_grid={'criterion': ['gini', 'entropy'],\n",
       "                         'max_depth': [3, 5, 10],\n",
       "                         'n_estimators': [25, 50, 75, 100, 125, 150, 175, 200]})"
      ]
     },
     "execution_count": 61,
     "metadata": {},
     "output_type": "execute_result"
    }
   ],
   "source": [
    "#importing Random Forest Classifier from sklearn.ensemble\n",
    "from sklearn.model_selection import GridSearchCV #GridSearchCV is for parameter tuning\n",
    "from sklearn.ensemble import RandomForestClassifier\n",
    "cls=RandomForestClassifier()\n",
    "n_estimators=[25,50,75,100,125,150,175,200] #number of decision trees in the forest, default = 100\n",
    "criterion=['gini','entropy'] #criteria for choosing nodes default = 'gini'\n",
    "max_depth=[3,5,10] #maximum number of nodes in a tree default = None (it will go till all possible nodes)\n",
    "parameters={'n_estimators': n_estimators,'criterion':criterion,'max_depth':max_depth} #this will undergo 8*2*3 = 48 iterations\n",
    "RFC_cls = GridSearchCV(cls, parameters)\n",
    "RFC_cls.fit(X_train,Y_train)"
   ]
  },
  {
   "cell_type": "code",
   "execution_count": 62,
   "metadata": {},
   "outputs": [
    {
     "data": {
      "text/plain": [
       "{'criterion': 'gini', 'max_depth': 10, 'n_estimators': 200}"
      ]
     },
     "execution_count": 62,
     "metadata": {},
     "output_type": "execute_result"
    }
   ],
   "source": [
    "RFC_cls.best_params_"
   ]
  },
  {
   "cell_type": "code",
   "execution_count": 63,
   "metadata": {},
   "outputs": [],
   "source": [
    "cls=RandomForestClassifier(n_estimators=100,criterion='gini',max_depth=10)"
   ]
  },
  {
   "cell_type": "code",
   "execution_count": 64,
   "metadata": {},
   "outputs": [
    {
     "name": "stdout",
     "output_type": "stream",
     "text": [
      "Accuracy: 65.37 %\n"
     ]
    }
   ],
   "source": [
    "from sklearn.model_selection import KFold\n",
    "from sklearn.model_selection import cross_val_score\n",
    "kfold = KFold(n_splits=10, random_state=7)\n",
    "results=cross_val_score(cls,X_train,Y_train,cv=kfold)\n",
    "print(\"Accuracy: {:.2f} %\".format(results.mean()*100))"
   ]
  },
  {
   "cell_type": "markdown",
   "metadata": {},
   "source": [
    "# Xg Boost"
   ]
  },
  {
   "cell_type": "code",
   "execution_count": 65,
   "metadata": {},
   "outputs": [
    {
     "data": {
      "text/plain": [
       "XGBClassifier(base_score=0.5, booster='gbtree', colsample_bylevel=1,\n",
       "              colsample_bynode=1, colsample_bytree=1, gamma=0, gpu_id=-1,\n",
       "              importance_type='gain', interaction_constraints='',\n",
       "              learning_rate=0.300000012, max_delta_step=0, max_depth=6,\n",
       "              min_child_weight=1, missing=nan, monotone_constraints='()',\n",
       "              n_estimators=100, n_jobs=0, num_parallel_tree=1,\n",
       "              objective='multi:softprob', random_state=0, reg_alpha=0,\n",
       "              reg_lambda=1, scale_pos_weight=None, subsample=1,\n",
       "              tree_method='exact', validate_parameters=1, verbosity=None)"
      ]
     },
     "execution_count": 65,
     "metadata": {},
     "output_type": "execute_result"
    }
   ],
   "source": [
    "import xgboost as xgb\n",
    "classifier = xgb.XGBClassifier()\n",
    "classifier.fit(X_train, Y_train)"
   ]
  },
  {
   "cell_type": "code",
   "execution_count": 66,
   "metadata": {},
   "outputs": [
    {
     "name": "stdout",
     "output_type": "stream",
     "text": [
      "Accuracy: 63.53 %\n"
     ]
    }
   ],
   "source": [
    "accuracies = cross_val_score(estimator = classifier, X = X_train, y = Y_train, cv = 10)\n",
    "print(\"Accuracy: {:.2f} %\".format(accuracies.mean()*100))"
   ]
  },
  {
   "cell_type": "markdown",
   "metadata": {},
   "source": [
    "# Naive bayes"
   ]
  },
  {
   "cell_type": "code",
   "execution_count": 67,
   "metadata": {},
   "outputs": [],
   "source": [
    "#importing Gaussian Naive Bayes Algorithm\n",
    "from sklearn.naive_bayes import GaussianNB"
   ]
  },
  {
   "cell_type": "code",
   "execution_count": 68,
   "metadata": {},
   "outputs": [],
   "source": [
    "classifier = GaussianNB()"
   ]
  },
  {
   "cell_type": "code",
   "execution_count": 69,
   "metadata": {},
   "outputs": [
    {
     "data": {
      "text/plain": [
       "GaussianNB()"
      ]
     },
     "execution_count": 69,
     "metadata": {},
     "output_type": "execute_result"
    }
   ],
   "source": [
    "classifier.fit(X_train,Y_train)\n"
   ]
  },
  {
   "cell_type": "code",
   "execution_count": 70,
   "metadata": {},
   "outputs": [
    {
     "name": "stdout",
     "output_type": "stream",
     "text": [
      "Accuracy: 61.93 %\n"
     ]
    }
   ],
   "source": [
    "kfold = KFold(n_splits=10, random_state=7)\n",
    "results=cross_val_score(classifier,X_train,Y_train,cv=kfold)\n",
    "print(\"Accuracy: {:.2f} %\".format(results.mean()*100))"
   ]
  },
  {
   "cell_type": "code",
   "execution_count": 71,
   "metadata": {},
   "outputs": [],
   "source": [
    "#ridge classifier is selected as best model"
   ]
  },
  {
   "cell_type": "code",
   "execution_count": 72,
   "metadata": {},
   "outputs": [],
   "source": [
    "y_pred_ridge=ridge_classifier.predict(X_test)"
   ]
  },
  {
   "cell_type": "code",
   "execution_count": 73,
   "metadata": {},
   "outputs": [],
   "source": [
    "football_test['FTR']=y_pred_ridge"
   ]
  },
  {
   "cell_type": "code",
   "execution_count": 74,
   "metadata": {},
   "outputs": [
    {
     "data": {
      "text/html": [
       "<div>\n",
       "<style scoped>\n",
       "    .dataframe tbody tr th:only-of-type {\n",
       "        vertical-align: middle;\n",
       "    }\n",
       "\n",
       "    .dataframe tbody tr th {\n",
       "        vertical-align: top;\n",
       "    }\n",
       "\n",
       "    .dataframe thead th {\n",
       "        text-align: right;\n",
       "    }\n",
       "</style>\n",
       "<table border=\"1\" class=\"dataframe\">\n",
       "  <thead>\n",
       "    <tr style=\"text-align: right;\">\n",
       "      <th></th>\n",
       "      <th>AC</th>\n",
       "      <th>AF</th>\n",
       "      <th>AR</th>\n",
       "      <th>AS</th>\n",
       "      <th>AST</th>\n",
       "      <th>AY</th>\n",
       "      <th>AwayTeam</th>\n",
       "      <th>HC</th>\n",
       "      <th>HF</th>\n",
       "      <th>HR</th>\n",
       "      <th>HS</th>\n",
       "      <th>HST</th>\n",
       "      <th>HTAG</th>\n",
       "      <th>HTHG</th>\n",
       "      <th>HY</th>\n",
       "      <th>HomeTeam</th>\n",
       "      <th>Half_time_goal_difference</th>\n",
       "      <th>precedence</th>\n",
       "      <th>FTR</th>\n",
       "    </tr>\n",
       "  </thead>\n",
       "  <tbody>\n",
       "    <tr>\n",
       "      <th>0</th>\n",
       "      <td>5</td>\n",
       "      <td>17</td>\n",
       "      <td>0</td>\n",
       "      <td>19</td>\n",
       "      <td>4.0</td>\n",
       "      <td>2</td>\n",
       "      <td>50.0</td>\n",
       "      <td>4</td>\n",
       "      <td>13.0</td>\n",
       "      <td>0</td>\n",
       "      <td>13</td>\n",
       "      <td>8.0</td>\n",
       "      <td>0</td>\n",
       "      <td>2</td>\n",
       "      <td>1</td>\n",
       "      <td>146.5</td>\n",
       "      <td>2</td>\n",
       "      <td>0</td>\n",
       "      <td>0.0</td>\n",
       "    </tr>\n",
       "    <tr>\n",
       "      <th>1</th>\n",
       "      <td>7</td>\n",
       "      <td>16</td>\n",
       "      <td>0</td>\n",
       "      <td>13</td>\n",
       "      <td>1.0</td>\n",
       "      <td>3</td>\n",
       "      <td>7.0</td>\n",
       "      <td>13</td>\n",
       "      <td>18.0</td>\n",
       "      <td>0</td>\n",
       "      <td>11</td>\n",
       "      <td>10.5</td>\n",
       "      <td>0</td>\n",
       "      <td>1</td>\n",
       "      <td>4</td>\n",
       "      <td>37.0</td>\n",
       "      <td>1</td>\n",
       "      <td>0</td>\n",
       "      <td>0.0</td>\n",
       "    </tr>\n",
       "    <tr>\n",
       "      <th>2</th>\n",
       "      <td>1</td>\n",
       "      <td>12</td>\n",
       "      <td>0</td>\n",
       "      <td>9</td>\n",
       "      <td>2.0</td>\n",
       "      <td>1</td>\n",
       "      <td>83.0</td>\n",
       "      <td>5</td>\n",
       "      <td>18.0</td>\n",
       "      <td>0</td>\n",
       "      <td>10</td>\n",
       "      <td>3.0</td>\n",
       "      <td>0</td>\n",
       "      <td>0</td>\n",
       "      <td>2</td>\n",
       "      <td>39.0</td>\n",
       "      <td>0</td>\n",
       "      <td>2</td>\n",
       "      <td>2.0</td>\n",
       "    </tr>\n",
       "    <tr>\n",
       "      <th>3</th>\n",
       "      <td>4</td>\n",
       "      <td>25</td>\n",
       "      <td>0</td>\n",
       "      <td>11</td>\n",
       "      <td>2.0</td>\n",
       "      <td>3</td>\n",
       "      <td>94.0</td>\n",
       "      <td>6</td>\n",
       "      <td>17.0</td>\n",
       "      <td>0</td>\n",
       "      <td>14</td>\n",
       "      <td>3.0</td>\n",
       "      <td>0</td>\n",
       "      <td>0</td>\n",
       "      <td>1</td>\n",
       "      <td>40.0</td>\n",
       "      <td>0</td>\n",
       "      <td>2</td>\n",
       "      <td>2.0</td>\n",
       "    </tr>\n",
       "    <tr>\n",
       "      <th>4</th>\n",
       "      <td>1</td>\n",
       "      <td>25</td>\n",
       "      <td>0</td>\n",
       "      <td>6</td>\n",
       "      <td>2.0</td>\n",
       "      <td>5</td>\n",
       "      <td>38.0</td>\n",
       "      <td>13</td>\n",
       "      <td>18.0</td>\n",
       "      <td>0</td>\n",
       "      <td>14</td>\n",
       "      <td>6.0</td>\n",
       "      <td>0</td>\n",
       "      <td>0</td>\n",
       "      <td>3</td>\n",
       "      <td>55.0</td>\n",
       "      <td>0</td>\n",
       "      <td>2</td>\n",
       "      <td>2.0</td>\n",
       "    </tr>\n",
       "  </tbody>\n",
       "</table>\n",
       "</div>"
      ],
      "text/plain": [
       "   AC  AF  AR  AS  AST  AY  AwayTeam  HC    HF  HR  HS   HST  HTAG  HTHG  HY  \\\n",
       "0   5  17   0  19  4.0   2      50.0   4  13.0   0  13   8.0     0     2   1   \n",
       "1   7  16   0  13  1.0   3       7.0  13  18.0   0  11  10.5     0     1   4   \n",
       "2   1  12   0   9  2.0   1      83.0   5  18.0   0  10   3.0     0     0   2   \n",
       "3   4  25   0  11  2.0   3      94.0   6  17.0   0  14   3.0     0     0   1   \n",
       "4   1  25   0   6  2.0   5      38.0  13  18.0   0  14   6.0     0     0   3   \n",
       "\n",
       "   HomeTeam  Half_time_goal_difference  precedence  FTR  \n",
       "0     146.5                          2           0  0.0  \n",
       "1      37.0                          1           0  0.0  \n",
       "2      39.0                          0           2  2.0  \n",
       "3      40.0                          0           2  2.0  \n",
       "4      55.0                          0           2  2.0  "
      ]
     },
     "execution_count": 74,
     "metadata": {},
     "output_type": "execute_result"
    }
   ],
   "source": [
    "football_test.head()"
   ]
  },
  {
   "cell_type": "code",
   "execution_count": 81,
   "metadata": {},
   "outputs": [],
   "source": [
    "data=pd.concat([football_test,index],axis=1)"
   ]
  },
  {
   "cell_type": "code",
   "execution_count": 82,
   "metadata": {},
   "outputs": [],
   "source": [
    "final_data=data[['index','FTR']]"
   ]
  },
  {
   "cell_type": "code",
   "execution_count": 83,
   "metadata": {},
   "outputs": [
    {
     "data": {
      "text/html": [
       "<div>\n",
       "<style scoped>\n",
       "    .dataframe tbody tr th:only-of-type {\n",
       "        vertical-align: middle;\n",
       "    }\n",
       "\n",
       "    .dataframe tbody tr th {\n",
       "        vertical-align: top;\n",
       "    }\n",
       "\n",
       "    .dataframe thead th {\n",
       "        text-align: right;\n",
       "    }\n",
       "</style>\n",
       "<table border=\"1\" class=\"dataframe\">\n",
       "  <thead>\n",
       "    <tr style=\"text-align: right;\">\n",
       "      <th></th>\n",
       "      <th>index</th>\n",
       "      <th>FTR</th>\n",
       "    </tr>\n",
       "  </thead>\n",
       "  <tbody>\n",
       "    <tr>\n",
       "      <th>0</th>\n",
       "      <td>0</td>\n",
       "      <td>0.0</td>\n",
       "    </tr>\n",
       "    <tr>\n",
       "      <th>1</th>\n",
       "      <td>1</td>\n",
       "      <td>0.0</td>\n",
       "    </tr>\n",
       "    <tr>\n",
       "      <th>2</th>\n",
       "      <td>2</td>\n",
       "      <td>2.0</td>\n",
       "    </tr>\n",
       "    <tr>\n",
       "      <th>3</th>\n",
       "      <td>3</td>\n",
       "      <td>2.0</td>\n",
       "    </tr>\n",
       "    <tr>\n",
       "      <th>4</th>\n",
       "      <td>4</td>\n",
       "      <td>2.0</td>\n",
       "    </tr>\n",
       "    <tr>\n",
       "      <th>...</th>\n",
       "      <td>...</td>\n",
       "      <td>...</td>\n",
       "    </tr>\n",
       "    <tr>\n",
       "      <th>1821</th>\n",
       "      <td>375</td>\n",
       "      <td>0.0</td>\n",
       "    </tr>\n",
       "    <tr>\n",
       "      <th>1822</th>\n",
       "      <td>376</td>\n",
       "      <td>0.0</td>\n",
       "    </tr>\n",
       "    <tr>\n",
       "      <th>1823</th>\n",
       "      <td>377</td>\n",
       "      <td>1.0</td>\n",
       "    </tr>\n",
       "    <tr>\n",
       "      <th>1824</th>\n",
       "      <td>378</td>\n",
       "      <td>0.0</td>\n",
       "    </tr>\n",
       "    <tr>\n",
       "      <th>1825</th>\n",
       "      <td>379</td>\n",
       "      <td>0.0</td>\n",
       "    </tr>\n",
       "  </tbody>\n",
       "</table>\n",
       "<p>1826 rows × 2 columns</p>\n",
       "</div>"
      ],
      "text/plain": [
       "      index  FTR\n",
       "0         0  0.0\n",
       "1         1  0.0\n",
       "2         2  2.0\n",
       "3         3  2.0\n",
       "4         4  2.0\n",
       "...     ...  ...\n",
       "1821    375  0.0\n",
       "1822    376  0.0\n",
       "1823    377  1.0\n",
       "1824    378  0.0\n",
       "1825    379  0.0\n",
       "\n",
       "[1826 rows x 2 columns]"
      ]
     },
     "execution_count": 83,
     "metadata": {},
     "output_type": "execute_result"
    }
   ],
   "source": [
    "final_data"
   ]
  },
  {
   "cell_type": "code",
   "execution_count": 84,
   "metadata": {},
   "outputs": [],
   "source": [
    "final_data['FTR']=final_data['FTR'].map({0:'H',1:'A',2:'D'})"
   ]
  },
  {
   "cell_type": "code",
   "execution_count": 86,
   "metadata": {},
   "outputs": [
    {
     "data": {
      "text/html": [
       "<div>\n",
       "<style scoped>\n",
       "    .dataframe tbody tr th:only-of-type {\n",
       "        vertical-align: middle;\n",
       "    }\n",
       "\n",
       "    .dataframe tbody tr th {\n",
       "        vertical-align: top;\n",
       "    }\n",
       "\n",
       "    .dataframe thead th {\n",
       "        text-align: right;\n",
       "    }\n",
       "</style>\n",
       "<table border=\"1\" class=\"dataframe\">\n",
       "  <thead>\n",
       "    <tr style=\"text-align: right;\">\n",
       "      <th></th>\n",
       "      <th>index</th>\n",
       "      <th>FTR</th>\n",
       "    </tr>\n",
       "  </thead>\n",
       "  <tbody>\n",
       "    <tr>\n",
       "      <th>0</th>\n",
       "      <td>0</td>\n",
       "      <td>H</td>\n",
       "    </tr>\n",
       "    <tr>\n",
       "      <th>1</th>\n",
       "      <td>1</td>\n",
       "      <td>H</td>\n",
       "    </tr>\n",
       "    <tr>\n",
       "      <th>2</th>\n",
       "      <td>2</td>\n",
       "      <td>D</td>\n",
       "    </tr>\n",
       "    <tr>\n",
       "      <th>3</th>\n",
       "      <td>3</td>\n",
       "      <td>D</td>\n",
       "    </tr>\n",
       "    <tr>\n",
       "      <th>4</th>\n",
       "      <td>4</td>\n",
       "      <td>D</td>\n",
       "    </tr>\n",
       "    <tr>\n",
       "      <th>5</th>\n",
       "      <td>5</td>\n",
       "      <td>H</td>\n",
       "    </tr>\n",
       "    <tr>\n",
       "      <th>6</th>\n",
       "      <td>6</td>\n",
       "      <td>A</td>\n",
       "    </tr>\n",
       "    <tr>\n",
       "      <th>7</th>\n",
       "      <td>7</td>\n",
       "      <td>D</td>\n",
       "    </tr>\n",
       "    <tr>\n",
       "      <th>8</th>\n",
       "      <td>8</td>\n",
       "      <td>H</td>\n",
       "    </tr>\n",
       "    <tr>\n",
       "      <th>9</th>\n",
       "      <td>9</td>\n",
       "      <td>A</td>\n",
       "    </tr>\n",
       "    <tr>\n",
       "      <th>10</th>\n",
       "      <td>10</td>\n",
       "      <td>A</td>\n",
       "    </tr>\n",
       "    <tr>\n",
       "      <th>11</th>\n",
       "      <td>11</td>\n",
       "      <td>H</td>\n",
       "    </tr>\n",
       "    <tr>\n",
       "      <th>12</th>\n",
       "      <td>12</td>\n",
       "      <td>A</td>\n",
       "    </tr>\n",
       "    <tr>\n",
       "      <th>13</th>\n",
       "      <td>13</td>\n",
       "      <td>H</td>\n",
       "    </tr>\n",
       "    <tr>\n",
       "      <th>14</th>\n",
       "      <td>14</td>\n",
       "      <td>D</td>\n",
       "    </tr>\n",
       "  </tbody>\n",
       "</table>\n",
       "</div>"
      ],
      "text/plain": [
       "    index FTR\n",
       "0       0   H\n",
       "1       1   H\n",
       "2       2   D\n",
       "3       3   D\n",
       "4       4   D\n",
       "5       5   H\n",
       "6       6   A\n",
       "7       7   D\n",
       "8       8   H\n",
       "9       9   A\n",
       "10     10   A\n",
       "11     11   H\n",
       "12     12   A\n",
       "13     13   H\n",
       "14     14   D"
      ]
     },
     "execution_count": 86,
     "metadata": {},
     "output_type": "execute_result"
    }
   ],
   "source": [
    "final_data.head(15)"
   ]
  },
  {
   "cell_type": "code",
   "execution_count": 89,
   "metadata": {},
   "outputs": [],
   "source": [
    "final_data.to_csv('/home/joseph/Downloads/bstrac/ridge.csv')"
   ]
  },
  {
   "cell_type": "code",
   "execution_count": null,
   "metadata": {},
   "outputs": [],
   "source": []
  },
  {
   "cell_type": "code",
   "execution_count": null,
   "metadata": {},
   "outputs": [],
   "source": []
  }
 ],
 "metadata": {
  "kernelspec": {
   "display_name": "Python 3",
   "language": "python",
   "name": "python3"
  },
  "language_info": {
   "codemirror_mode": {
    "name": "ipython",
    "version": 3
   },
   "file_extension": ".py",
   "mimetype": "text/x-python",
   "name": "python",
   "nbconvert_exporter": "python",
   "pygments_lexer": "ipython3",
   "version": "3.8.3"
  }
 },
 "nbformat": 4,
 "nbformat_minor": 4
}
